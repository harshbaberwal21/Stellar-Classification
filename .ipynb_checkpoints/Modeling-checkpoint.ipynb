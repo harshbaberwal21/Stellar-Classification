{
 "cells": [
  {
   "cell_type": "code",
   "execution_count": 1,
   "id": "e72c9d6d",
   "metadata": {},
   "outputs": [],
   "source": [
    "import pandas as pd\n",
    "import numpy as np\n",
    "\n",
    "from matplotlib import pyplot as plt\n",
    "from matplotlib.pyplot import figure\n"
   ]
  },
  {
   "cell_type": "code",
   "execution_count": 2,
   "id": "ca83a2d0",
   "metadata": {},
   "outputs": [],
   "source": [
    "stellar_features = pd.read_csv(\"stellar_features.csv\", index_col = 0)"
   ]
  },
  {
   "cell_type": "code",
   "execution_count": 3,
   "id": "65a8b2c5",
   "metadata": {},
   "outputs": [
    {
     "name": "stdout",
     "output_type": "stream",
     "text": [
      "Sample Shape :\n",
      "(87939, 7) \n",
      "\n",
      "Sample Data Types :\n",
      "u           float64\n",
      "g           float64\n",
      "r           float64\n",
      "i           float64\n",
      "z           float64\n",
      "redshift    float64\n",
      "class        object\n",
      "dtype: object \n",
      "\n"
     ]
    }
   ],
   "source": [
    "print(\"Sample Shape :\\n{} \\n\".format(stellar_features.shape))\n",
    "print(\"Sample Data Types :\\n{} \\n\".format(stellar_features.dtypes))\n"
   ]
  },
  {
   "cell_type": "code",
   "execution_count": 4,
   "id": "b2409e25",
   "metadata": {},
   "outputs": [
    {
     "name": "stdout",
     "output_type": "stream",
     "text": [
      "<class 'pandas.core.frame.DataFrame'>\n",
      "Int64Index: 87939 entries, 0 to 99999\n",
      "Data columns (total 7 columns):\n",
      " #   Column    Non-Null Count  Dtype  \n",
      "---  ------    --------------  -----  \n",
      " 0   u         87939 non-null  float64\n",
      " 1   g         87939 non-null  float64\n",
      " 2   r         87939 non-null  float64\n",
      " 3   i         87939 non-null  float64\n",
      " 4   z         87939 non-null  float64\n",
      " 5   redshift  87939 non-null  float64\n",
      " 6   class     87939 non-null  object \n",
      "dtypes: float64(6), object(1)\n",
      "memory usage: 5.4+ MB\n",
      "None\n"
     ]
    }
   ],
   "source": [
    "print(stellar_features.info())"
   ]
  },
  {
   "cell_type": "code",
   "execution_count": 5,
   "id": "491637a3",
   "metadata": {},
   "outputs": [
    {
     "data": {
      "text/html": [
       "<div>\n",
       "<style scoped>\n",
       "    .dataframe tbody tr th:only-of-type {\n",
       "        vertical-align: middle;\n",
       "    }\n",
       "\n",
       "    .dataframe tbody tr th {\n",
       "        vertical-align: top;\n",
       "    }\n",
       "\n",
       "    .dataframe thead th {\n",
       "        text-align: right;\n",
       "    }\n",
       "</style>\n",
       "<table border=\"1\" class=\"dataframe\">\n",
       "  <thead>\n",
       "    <tr style=\"text-align: right;\">\n",
       "      <th></th>\n",
       "      <th>u</th>\n",
       "      <th>g</th>\n",
       "      <th>r</th>\n",
       "      <th>i</th>\n",
       "      <th>z</th>\n",
       "      <th>redshift</th>\n",
       "    </tr>\n",
       "  </thead>\n",
       "  <tbody>\n",
       "    <tr>\n",
       "      <th>count</th>\n",
       "      <td>87939.000000</td>\n",
       "      <td>87939.000000</td>\n",
       "      <td>87939.000000</td>\n",
       "      <td>87939.000000</td>\n",
       "      <td>87939.000000</td>\n",
       "      <td>87939.000000</td>\n",
       "    </tr>\n",
       "    <tr>\n",
       "      <th>mean</th>\n",
       "      <td>22.076154</td>\n",
       "      <td>20.630654</td>\n",
       "      <td>19.640179</td>\n",
       "      <td>19.079038</td>\n",
       "      <td>18.761662</td>\n",
       "      <td>0.583572</td>\n",
       "    </tr>\n",
       "    <tr>\n",
       "      <th>std</th>\n",
       "      <td>2.255119</td>\n",
       "      <td>2.039452</td>\n",
       "      <td>1.849442</td>\n",
       "      <td>1.751695</td>\n",
       "      <td>1.758200</td>\n",
       "      <td>0.734421</td>\n",
       "    </tr>\n",
       "    <tr>\n",
       "      <th>min</th>\n",
       "      <td>10.996230</td>\n",
       "      <td>10.498200</td>\n",
       "      <td>9.822070</td>\n",
       "      <td>9.469903</td>\n",
       "      <td>9.612333</td>\n",
       "      <td>-0.009971</td>\n",
       "    </tr>\n",
       "    <tr>\n",
       "      <th>25%</th>\n",
       "      <td>20.341365</td>\n",
       "      <td>18.960475</td>\n",
       "      <td>18.127585</td>\n",
       "      <td>17.726360</td>\n",
       "      <td>17.452335</td>\n",
       "      <td>0.060015</td>\n",
       "    </tr>\n",
       "    <tr>\n",
       "      <th>50%</th>\n",
       "      <td>22.166240</td>\n",
       "      <td>21.097100</td>\n",
       "      <td>20.130540</td>\n",
       "      <td>19.411060</td>\n",
       "      <td>19.009440</td>\n",
       "      <td>0.427993</td>\n",
       "    </tr>\n",
       "    <tr>\n",
       "      <th>75%</th>\n",
       "      <td>23.693860</td>\n",
       "      <td>22.111265</td>\n",
       "      <td>21.034150</td>\n",
       "      <td>20.387805</td>\n",
       "      <td>19.911320</td>\n",
       "      <td>0.705997</td>\n",
       "    </tr>\n",
       "    <tr>\n",
       "      <th>max</th>\n",
       "      <td>32.781390</td>\n",
       "      <td>31.602240</td>\n",
       "      <td>29.571860</td>\n",
       "      <td>32.141470</td>\n",
       "      <td>29.383740</td>\n",
       "      <td>7.011245</td>\n",
       "    </tr>\n",
       "  </tbody>\n",
       "</table>\n",
       "</div>"
      ],
      "text/plain": [
       "                  u             g             r             i             z  \\\n",
       "count  87939.000000  87939.000000  87939.000000  87939.000000  87939.000000   \n",
       "mean      22.076154     20.630654     19.640179     19.079038     18.761662   \n",
       "std        2.255119      2.039452      1.849442      1.751695      1.758200   \n",
       "min       10.996230     10.498200      9.822070      9.469903      9.612333   \n",
       "25%       20.341365     18.960475     18.127585     17.726360     17.452335   \n",
       "50%       22.166240     21.097100     20.130540     19.411060     19.009440   \n",
       "75%       23.693860     22.111265     21.034150     20.387805     19.911320   \n",
       "max       32.781390     31.602240     29.571860     32.141470     29.383740   \n",
       "\n",
       "           redshift  \n",
       "count  87939.000000  \n",
       "mean       0.583572  \n",
       "std        0.734421  \n",
       "min       -0.009971  \n",
       "25%        0.060015  \n",
       "50%        0.427993  \n",
       "75%        0.705997  \n",
       "max        7.011245  "
      ]
     },
     "execution_count": 5,
     "metadata": {},
     "output_type": "execute_result"
    }
   ],
   "source": [
    "features = ['u','g','r','i','z','redshift']\n",
    "classes = stellar_features[\"class\"].unique()\n",
    "stellar_features.describe()"
   ]
  },
  {
   "cell_type": "code",
   "execution_count": 6,
   "id": "c73067b8",
   "metadata": {},
   "outputs": [
    {
     "name": "stdout",
     "output_type": "stream",
     "text": [
      "u           0\n",
      "g           0\n",
      "r           0\n",
      "i           0\n",
      "z           0\n",
      "redshift    0\n",
      "class       0\n",
      "dtype: int64\n"
     ]
    }
   ],
   "source": [
    "print(stellar_features.isna().sum())"
   ]
  },
  {
   "cell_type": "code",
   "execution_count": 7,
   "id": "0217cc33",
   "metadata": {},
   "outputs": [
    {
     "data": {
      "text/html": [
       "<div>\n",
       "<style scoped>\n",
       "    .dataframe tbody tr th:only-of-type {\n",
       "        vertical-align: middle;\n",
       "    }\n",
       "\n",
       "    .dataframe tbody tr th {\n",
       "        vertical-align: top;\n",
       "    }\n",
       "\n",
       "    .dataframe thead th {\n",
       "        text-align: right;\n",
       "    }\n",
       "</style>\n",
       "<table border=\"1\" class=\"dataframe\">\n",
       "  <thead>\n",
       "    <tr style=\"text-align: right;\">\n",
       "      <th></th>\n",
       "      <th>class</th>\n",
       "      <th>feature</th>\n",
       "      <th>value</th>\n",
       "    </tr>\n",
       "  </thead>\n",
       "  <tbody>\n",
       "    <tr>\n",
       "      <th>0</th>\n",
       "      <td>GALAXY</td>\n",
       "      <td>u</td>\n",
       "      <td>23.878820</td>\n",
       "    </tr>\n",
       "    <tr>\n",
       "      <th>1</th>\n",
       "      <td>GALAXY</td>\n",
       "      <td>u</td>\n",
       "      <td>24.777590</td>\n",
       "    </tr>\n",
       "    <tr>\n",
       "      <th>2</th>\n",
       "      <td>GALAXY</td>\n",
       "      <td>u</td>\n",
       "      <td>25.263070</td>\n",
       "    </tr>\n",
       "    <tr>\n",
       "      <th>3</th>\n",
       "      <td>GALAXY</td>\n",
       "      <td>u</td>\n",
       "      <td>19.437180</td>\n",
       "    </tr>\n",
       "    <tr>\n",
       "      <th>4</th>\n",
       "      <td>QSO</td>\n",
       "      <td>u</td>\n",
       "      <td>23.488270</td>\n",
       "    </tr>\n",
       "    <tr>\n",
       "      <th>...</th>\n",
       "      <td>...</td>\n",
       "      <td>...</td>\n",
       "      <td>...</td>\n",
       "    </tr>\n",
       "    <tr>\n",
       "      <th>527629</th>\n",
       "      <td>GALAXY</td>\n",
       "      <td>redshift</td>\n",
       "      <td>0.587944</td>\n",
       "    </tr>\n",
       "    <tr>\n",
       "      <th>527630</th>\n",
       "      <td>GALAXY</td>\n",
       "      <td>redshift</td>\n",
       "      <td>0.404895</td>\n",
       "    </tr>\n",
       "    <tr>\n",
       "      <th>527631</th>\n",
       "      <td>GALAXY</td>\n",
       "      <td>redshift</td>\n",
       "      <td>0.143366</td>\n",
       "    </tr>\n",
       "    <tr>\n",
       "      <th>527632</th>\n",
       "      <td>GALAXY</td>\n",
       "      <td>redshift</td>\n",
       "      <td>0.455040</td>\n",
       "    </tr>\n",
       "    <tr>\n",
       "      <th>527633</th>\n",
       "      <td>GALAXY</td>\n",
       "      <td>redshift</td>\n",
       "      <td>0.542944</td>\n",
       "    </tr>\n",
       "  </tbody>\n",
       "</table>\n",
       "<p>527634 rows × 3 columns</p>\n",
       "</div>"
      ],
      "text/plain": [
       "         class   feature      value\n",
       "0       GALAXY         u  23.878820\n",
       "1       GALAXY         u  24.777590\n",
       "2       GALAXY         u  25.263070\n",
       "3       GALAXY         u  19.437180\n",
       "4          QSO         u  23.488270\n",
       "...        ...       ...        ...\n",
       "527629  GALAXY  redshift   0.587944\n",
       "527630  GALAXY  redshift   0.404895\n",
       "527631  GALAXY  redshift   0.143366\n",
       "527632  GALAXY  redshift   0.455040\n",
       "527633  GALAXY  redshift   0.542944\n",
       "\n",
       "[527634 rows x 3 columns]"
      ]
     },
     "execution_count": 7,
     "metadata": {},
     "output_type": "execute_result"
    }
   ],
   "source": [
    "stellar_features_long = stellar_features.melt(id_vars = \"class\", value_vars = features, var_name=\"feature\", value_name = \"value\")\n",
    "stellar_features_long\n"
   ]
  },
  {
   "cell_type": "code",
   "execution_count": 8,
   "id": "60e5a068",
   "metadata": {},
   "outputs": [],
   "source": [
    "## Building CDFs\n",
    "\n",
    "def cdf_plot(array, theor=\"normal\"):\n",
    "    \"\"\"Plots the CDF of the given array against its theoretical\"\"\"\n",
    "    from matplotlib.pyplot import figure\n",
    "    figure(figsize=(5, 3), dpi=150)\n",
    "    x = np.sort(array)\n",
    "    y = np.arange(1, len(x)+1) / len(x)\n",
    "    _ = plt.plot(x, y, marker='.', linestyle='none', label = \"Observed CDF\", markersize = 0.03, color = \"red\")\n",
    "    \n",
    "    if theor == \"normal\":\n",
    "        x = np.sort(np.random.normal(np.mean(array), np.std(array), size=len(array)))\n",
    "        y = np.arange(1, len(x)+1) / len(x)\n",
    "        _ = plt.plot(x, y, marker='.', linestyle='none', color = \"green\", label = \"Theoretical CDF\", markersize = 0.03)\n",
    "    elif theor == \"exponential\":\n",
    "        x = np.sort(np.random.exponential(np.mean(array), size=len(array)))\n",
    "        y = np.arange(1, len(x)+1) / len(x)\n",
    "        _ = plt.plot(x, y, marker='.', linestyle='none', color = \"green\", label = \"Theoretical CDF\", markersize = 0.03)\n",
    "\n",
    "        "
   ]
  },
  {
   "cell_type": "code",
   "execution_count": 9,
   "id": "f236c8e5",
   "metadata": {},
   "outputs": [
    {
     "data": {
      "text/plain": [
       "['u', 'g', 'r', 'i', 'z', 'redshift']"
      ]
     },
     "execution_count": 9,
     "metadata": {},
     "output_type": "execute_result"
    }
   ],
   "source": [
    "features"
   ]
  },
  {
   "cell_type": "code",
   "execution_count": 10,
   "id": "365b9313",
   "metadata": {},
   "outputs": [
    {
     "data": {
      "image/png": "[encoded data removed]",
      "text/plain": [
       "<Figure size 750x450 with 1 Axes>"
      ]
     },
     "metadata": {
      "needs_background": "light"
     },
     "output_type": "display_data"
    }
   ],
   "source": [
    "cdf_plot(stellar_features[\"u\"], theor = \"normal\")"
   ]
  },
  {
   "cell_type": "code",
   "execution_count": 11,
   "id": "39390751",
   "metadata": {},
   "outputs": [
    {
     "data": {
      "image/png": "[encoded data removed]",
      "text/plain": [
       "<Figure size 750x450 with 1 Axes>"
      ]
     },
     "metadata": {
      "needs_background": "light"
     },
     "output_type": "display_data"
    }
   ],
   "source": [
    "cdf_plot(stellar_features[\"redshift\"], theor = \"exponential\")"
   ]
  },
  {
   "cell_type": "code",
   "execution_count": 12,
   "id": "c6993d15",
   "metadata": {},
   "outputs": [
    {
     "data": {
      "image/png": "[encoded data removed]",
      "text/plain": [
       "<Figure size 1152x864 with 6 Axes>"
      ]
     },
     "metadata": {
      "needs_background": "light"
     },
     "output_type": "display_data"
    }
   ],
   "source": [
    "import seaborn as sns\n",
    "\n",
    "fig, ax = plt.subplots(6,1)\n",
    "fig.set_size_inches([16, 12])\n",
    "\n",
    "for i in range(6):\n",
    "        sns.kdeplot(data = stellar_features_long[stellar_features_long[\"feature\"].isin([features[i]])], ax = ax[i])\n",
    "        ax[i].set(ylabel = features[i])\n",
    "#sns.kdeplot(x = \"value\", kind = \"kde\", data = stellar_features_long, col = \"class\", row = \"feature\")\n",
    "plt.show()\n"
   ]
  },
  {
   "cell_type": "markdown",
   "id": "cc46e481",
   "metadata": {},
   "source": [
    "There is some overlapping in the signals as we can see from CDFs and PDFs of the features. While others are close to normal distribution, have got multiple peaks though, redshift is close to an exponential distribution.\n",
    "\n",
    "It could be said that there is some amalgamation of signals from various stellar bodies here, which using suitable statistical and machine learning methods can be extracted/estimated.\n"
   ]
  },
  {
   "cell_type": "code",
   "execution_count": 13,
   "id": "3a5e9f8d",
   "metadata": {},
   "outputs": [
    {
     "name": "stdout",
     "output_type": "stream",
     "text": [
      "['GALAXY' 'QSO' 'STAR']\n"
     ]
    },
    {
     "data": {
      "text/plain": [
       "u            float64\n",
       "g            float64\n",
       "r            float64\n",
       "i            float64\n",
       "z            float64\n",
       "redshift     float64\n",
       "class       category\n",
       "dtype: object"
      ]
     },
     "execution_count": 13,
     "metadata": {},
     "output_type": "execute_result"
    }
   ],
   "source": [
    "print(stellar_features[\"class\"].unique())\n",
    "\n",
    "## Saving class as a category\n",
    "stellar_features[\"class\"] = stellar_features[\"class\"].astype(\"category\")\n",
    "stellar_features.dtypes"
   ]
  },
  {
   "cell_type": "markdown",
   "id": "ae53c80e",
   "metadata": {},
   "source": [
    "### Checking and handling multicollinearity"
   ]
  },
  {
   "cell_type": "code",
   "execution_count": 14,
   "id": "b13659e1",
   "metadata": {},
   "outputs": [
    {
     "name": "stdout",
     "output_type": "stream",
     "text": [
      "                 u         g         r         i         z  redshift\n",
      "u         1.000000  0.853347  0.727495  0.615436  0.541491  0.158087\n",
      "g         0.853347  1.000000  0.931925  0.844366  0.770890  0.312706\n",
      "r         0.727495  0.931925  1.000000  0.962108  0.917534  0.431491\n",
      "i         0.615436  0.844366  0.962108  1.000000  0.971108  0.493881\n",
      "z         0.541491  0.770890  0.917534  0.971108  1.000000  0.503812\n",
      "redshift  0.158087  0.312706  0.431491  0.493881  0.503812  1.000000\n"
     ]
    },
    {
     "data": {
      "text/plain": [
       "<AxesSubplot:>"
      ]
     },
     "execution_count": 14,
     "metadata": {},
     "output_type": "execute_result"
    },
    {
     "data": {
      "image/png": "[encoded data removed]",
      "text/plain": [
       "<Figure size 432x288 with 2 Axes>"
      ]
     },
     "metadata": {
      "needs_background": "light"
     },
     "output_type": "display_data"
    }
   ],
   "source": [
    "print(stellar_features.corr())\n",
    "sns.heatmap(stellar_features.corr())\n"
   ]
  },
  {
   "cell_type": "code",
   "execution_count": 15,
   "id": "9f37387f",
   "metadata": {},
   "outputs": [
    {
     "name": "stdout",
     "output_type": "stream",
     "text": [
      "<class 'pandas.core.frame.DataFrame'>\n",
      "Int64Index: 87939 entries, 0 to 99999\n",
      "Data columns (total 5 columns):\n",
      " #   Column    Non-Null Count  Dtype   \n",
      "---  ------    --------------  -----   \n",
      " 0   u         87939 non-null  float64 \n",
      " 1   g         87939 non-null  float64 \n",
      " 2   z         87939 non-null  float64 \n",
      " 3   redshift  87939 non-null  float64 \n",
      " 4   class     87939 non-null  category\n",
      "dtypes: category(1), float64(4)\n",
      "memory usage: 3.4 MB\n"
     ]
    }
   ],
   "source": [
    "# u and g are collinear\n",
    "# g,r,i,z are collinear\n",
    "# Removing r,i\n",
    "\n",
    "stellar_features_new = stellar_features.drop(columns = ['r','i'])\n",
    "features_new = ['u','g','z','redshift']\n",
    "stellar_features_new.info()"
   ]
  },
  {
   "cell_type": "markdown",
   "id": "468a80ff",
   "metadata": {},
   "source": [
    "### Creating train and test splits"
   ]
  },
  {
   "cell_type": "code",
   "execution_count": 16,
   "id": "b17257ab",
   "metadata": {},
   "outputs": [
    {
     "name": "stdout",
     "output_type": "stream",
     "text": [
      "(70351, 4)\n",
      "(17588, 4)\n",
      "(70351,)\n",
      "(17588,)\n"
     ]
    }
   ],
   "source": [
    "from sklearn.model_selection import train_test_split\n",
    "X_train, X_test, y_train, y_test = train_test_split(stellar_features_new[features_new],stellar_features_new[\"class\"], test_size=0.2, stratify=stellar_features_new[\"class\"] ,random_state=21)\n",
    "\n",
    "print(X_train.shape) \n",
    "print(X_test.shape)\n",
    "print(y_train.shape)\n",
    "print(y_test.shape)\n"
   ]
  },
  {
   "cell_type": "markdown",
   "id": "a68311b2",
   "metadata": {},
   "source": [
    "### Encoding target variable"
   ]
  },
  {
   "cell_type": "code",
   "execution_count": 17,
   "id": "0ce9f24d",
   "metadata": {},
   "outputs": [],
   "source": [
    "from sklearn.preprocessing import LabelEncoder\n",
    "le = LabelEncoder()\n",
    "y_train = le.fit_transform(y_train[:])\n",
    "y_test = le.transform(y_test[:])\n"
   ]
  },
  {
   "cell_type": "markdown",
   "id": "01f067b3",
   "metadata": {},
   "source": [
    "## Modeling Iteration 1"
   ]
  },
  {
   "cell_type": "markdown",
   "id": "df1e77d6",
   "metadata": {},
   "source": [
    "#### Writing a function to take in the training data, parameters grid and classifier algorithm, and use these to build a model, with 4-fold cross validation and a grid search over the parameters."
   ]
  },
  {
   "cell_type": "code",
   "execution_count": 18,
   "id": "a06982b0",
   "metadata": {},
   "outputs": [],
   "source": [
    "\n",
    "from sklearn.preprocessing import MinMaxScaler\n",
    "from sklearn.preprocessing import StandardScaler\n",
    "\n",
    "from sklearn.model_selection import cross_val_score\n",
    "from sklearn.model_selection import GridSearchCV\n",
    "from sklearn.metrics import roc_auc_score\n",
    "\n",
    "from sklearn.pipeline import Pipeline\n",
    "\n",
    "\n",
    "## n_neighbors identified through GridSearchCV on values between 4 and 12.\n",
    "\n",
    "def stellar_cv_classifier(model, X, y, params, scaler):\n",
    "    \"\"\"This function returns a GridSearchCV object and prints some accuracy scores\n",
    "        model can take the values: Logistic, RandomForest, KNN, GBC\n",
    "        scaler can be min_max((0,1)) or standard or.\n",
    "        \n",
    "        Create params just like you would for GridSearchCV in pipeline. \n",
    "        params = {'Classifier__(parameter name))}':[Parameter Values List]}\n",
    "        Example : parameters = {'Classifier__n_neighbors': [6,7]} \"\"\"\n",
    "    \n",
    "    \n",
    "    \n",
    "    if scaler == \"standard\":\n",
    "        scaler = StandardScaler()\n",
    "    elif scaler == \"min_max\":\n",
    "        scaler = MinMaxScaler((0,1))\n",
    "    \n",
    "    if model == \"Logistic\":\n",
    "        ## Logistic\n",
    "        from sklearn.linear_model import LogisticRegression\n",
    "        classifier = LogisticRegression(max_iter=1000)\n",
    "    \n",
    "    elif model == \"RandomForest\":\n",
    "        ### Random Forest\n",
    "        from sklearn.ensemble import RandomForestClassifier\n",
    "        classifier = RandomForestClassifier(random_state=123)\n",
    "\n",
    "    elif model == \"KNN\":\n",
    "        ### KNN Classifier\n",
    "        from sklearn.neighbors import KNeighborsClassifier\n",
    "        classifier = KNeighborsClassifier(n_neighbors = 6) \n",
    "\n",
    "    elif model == \"GBC\":\n",
    "        ### Getting Gradient Boost\n",
    "        from sklearn.ensemble import GradientBoostingClassifier \n",
    "        classifier = GradientBoostingClassifier(n_estimators=150, learning_rate=1.0, max_depth=1, random_state=20)\n",
    "    \n",
    "    elif model == \"LinearSVC\":\n",
    "        ### Linear SVC\n",
    "        from sklearn.svm import LinearSVC\n",
    "        classifier = LinearSVC(random_state=20)\n",
    "        \n",
    "\n",
    "\n",
    "    #### Setting the pipeline\n",
    "    steps = [(\"Scaler\",scaler),(\"Classifier\",classifier)]\n",
    "    model_pipeline = Pipeline(steps)\n",
    "\n",
    "\n",
    "\n",
    "    cv = GridSearchCV(model_pipeline, param_grid=params, cv = 4)\n",
    "    cv.fit(X, y)\n",
    "    \n",
    "    #### Evaluation\n",
    "    print(\"Best Parameters {}\".format(cv.best_params_))\n",
    "    print(\"\\n CV Accuracy {}\".format(cv.best_score_*100))\n",
    "\n",
    "\n",
    "    #### Error Analysis\n",
    "    print(\"Error Analysis\")\n",
    "    y_pred = cv.predict(X)\n",
    "\n",
    "    from sklearn.metrics import confusion_matrix\n",
    "    print(\"\\n Confusion Matrix: \\n\")\n",
    "    print(confusion_matrix(y, y_pred))\n",
    "    \n",
    "    return(cv)\n",
    "\n"
   ]
  },
  {
   "cell_type": "markdown",
   "id": "0456e61f",
   "metadata": {},
   "source": [
    "##### Building a basic logistic regression model"
   ]
  },
  {
   "cell_type": "code",
   "execution_count": 19,
   "id": "a93c8a09",
   "metadata": {},
   "outputs": [
    {
     "name": "stdout",
     "output_type": "stream",
     "text": [
      "Best Parameters {'Classifier__max_iter': 1000}\n",
      "\n",
      " CV Accuracy 95.44142921937488\n",
      "Error Analysis\n",
      "\n",
      " Confusion Matrix: \n",
      "\n",
      "[[40188   697   807]\n",
      " [ 1642 12147     8]\n",
      " [    1     3 14858]]\n",
      "\n",
      " Train Accuracy  95.51108015522168\n",
      "\n",
      " Test Accuracy  95.64475778940187\n"
     ]
    }
   ],
   "source": [
    "logreg_parameters = {'Classifier__max_iter': [1000]}\n",
    "logreg = stellar_cv_classifier(model = \"Logistic\", X = X_train, y = y_train, params = logreg_parameters, scaler = \"standard\")\n",
    "\n",
    "print(\"\\n Train Accuracy \",logreg.score(X_train,y_train)*100)\n",
    "print(\"\\n Test Accuracy \",logreg.score(X_test,y_test)*100)\n"
   ]
  },
  {
   "cell_type": "markdown",
   "id": "8a6b6302",
   "metadata": {},
   "source": [
    "##### Fitting a random forest model"
   ]
  },
  {
   "cell_type": "code",
   "execution_count": 20,
   "id": "3aa40f31",
   "metadata": {},
   "outputs": [
    {
     "name": "stdout",
     "output_type": "stream",
     "text": [
      "Best Parameters {'Classifier__min_samples_leaf': 0.15, 'Classifier__n_estimators': 400}\n",
      "\n",
      " CV Accuracy 87.07339184841223\n",
      "Error Analysis\n",
      "\n",
      " Confusion Matrix: \n",
      "\n",
      "[[37352  2523  1817]\n",
      " [ 4662  9124    11]\n",
      " [    0     0 14862]]\n",
      "\n",
      " Train Accuracy  87.18852610481727\n",
      "\n",
      " Test Accuracy  87.43461450989311\n"
     ]
    }
   ],
   "source": [
    "rf_parameters = {'Classifier__n_estimators': [400], 'Classifier__min_samples_leaf':[0.15]}\n",
    "rf = stellar_cv_classifier(model = \"RandomForest\", X = X_train, y = y_train, params = rf_parameters, scaler = \"standard\")\n",
    "\n",
    "print(\"\\n Train Accuracy \",rf.score(X_train,y_train)*100)\n",
    "print(\"\\n Test Accuracy \",rf.score(X_test,y_test)*100)\n"
   ]
  },
  {
   "cell_type": "markdown",
   "id": "4093b700",
   "metadata": {},
   "source": [
    "##### Fitting a KNN model"
   ]
  },
  {
   "cell_type": "code",
   "execution_count": 21,
   "id": "cf404de5",
   "metadata": {},
   "outputs": [
    {
     "name": "stdout",
     "output_type": "stream",
     "text": [
      "Best Parameters {'Classifier__n_neighbors': 5}\n",
      "\n",
      " CV Accuracy 96.02279951326547\n",
      "Error Analysis\n",
      "\n",
      " Confusion Matrix: \n",
      "\n",
      "[[40491   429   772]\n",
      " [  854 12923    20]\n",
      " [  129     1 14732]]\n",
      "\n",
      " Train Accuracy  96.86571619451038\n",
      "\n",
      " Test Accuracy  96.12235615192176\n"
     ]
    }
   ],
   "source": [
    "knn_parameters = {'Classifier__n_neighbors': [4,5,6,7,8]}\n",
    "knn = stellar_cv_classifier(model = \"KNN\", X = X_train, y = y_train, params = knn_parameters, scaler = \"standard\")\n",
    "\n",
    "print(\"\\n Train Accuracy \",knn.score(X_train,y_train)*100)\n",
    "print(\"\\n Test Accuracy \",knn.score(X_test,y_test)*100)\n"
   ]
  },
  {
   "cell_type": "markdown",
   "id": "f607fd37",
   "metadata": {},
   "source": [
    "##### Fitting a Gradient Boosting Classifier model"
   ]
  },
  {
   "cell_type": "code",
   "execution_count": 22,
   "id": "81498b78",
   "metadata": {},
   "outputs": [
    {
     "name": "stdout",
     "output_type": "stream",
     "text": [
      "Best Parameters {'Classifier__learning_rate': 1, 'Classifier__max_depth': 1, 'Classifier__n_estimators': 200}\n",
      "\n",
      " CV Accuracy 97.17843573051864\n",
      "Error Analysis\n",
      "\n",
      " Confusion Matrix: \n",
      "\n",
      "[[41045   561    86]\n",
      " [ 1131 12663     3]\n",
      " [   25     0 14837]]\n",
      "\n",
      " Train Accuracy  97.43287231169421\n",
      "\n",
      " Test Accuracy  97.44143734364339\n"
     ]
    }
   ],
   "source": [
    "gbc_parameters = {'Classifier__n_estimators': [200],'Classifier__learning_rate' : [1],'Classifier__max_depth':[1]}\n",
    "gbc = stellar_cv_classifier(model = \"GBC\", X = X_train, y = y_train, params = gbc_parameters, scaler = \"standard\")\n",
    "\n",
    "print(\"\\n Train Accuracy \",gbc.score(X_train,y_train)*100)\n",
    "print(\"\\n Test Accuracy \",gbc.score(X_test,y_test)*100)\n"
   ]
  },
  {
   "cell_type": "markdown",
   "id": "effbac02",
   "metadata": {},
   "source": [
    "##### Trying out a linear support vector model"
   ]
  },
  {
   "cell_type": "code",
   "execution_count": 23,
   "id": "4becda9f",
   "metadata": {},
   "outputs": [
    {
     "name": "stdout",
     "output_type": "stream",
     "text": [
      "Best Parameters {'Classifier__max_iter': 2000}\n",
      "\n",
      " CV Accuracy 93.1187916994326\n",
      "Error Analysis\n",
      "\n",
      " Confusion Matrix: \n",
      "\n",
      "[[39691  1382   619]\n",
      " [ 1254 12538     5]\n",
      " [ 1544     0 13318]]\n",
      "\n",
      " Train Accuracy  93.17138349135051\n",
      "\n",
      " Test Accuracy  93.33636570388902\n"
     ]
    }
   ],
   "source": [
    "svc_parameters  = {'Classifier__max_iter': [2000]}\n",
    "svc = stellar_cv_classifier(model = \"LinearSVC\", X = X_train, y = y_train, params = svc_parameters, scaler = \"standard\")\n",
    "\n",
    "print(\"\\n Train Accuracy \",svc.score(X_train,y_train)*100)\n",
    "print(\"\\n Test Accuracy \",svc.score(X_test,y_test)*100)\n"
   ]
  },
  {
   "cell_type": "markdown",
   "id": "609bf08b",
   "metadata": {},
   "source": [
    "### Iteration 1 Conclusion"
   ]
  },
  {
   "cell_type": "markdown",
   "id": "fbbbf02b",
   "metadata": {},
   "source": [
    "On quickly trying 5 algorithms for out classifier, we move ahead with Logistic and gradient Boosting to try additional things to better the accuracy.\n",
    "\n",
    "From the first look, it seems like the model is biased and not overfitting for any of the model.\n",
    "\n",
    "\n",
    "Model Seems to have bias, since our training, CV and test accuracy come out to be very close every time, \n",
    "Although, the CV accuracy is slightly more than the test error at times, it is fine since the difference is very minimal and from it we can only derive that there is no overfitting in the model. \n",
    "\n",
    "Error Analysis:\n",
    "More of QSOs are being predicted as Galaxies and some galaxies as QSO and Stars. This could be possible since there is class imbalance and Galaxies have the maximum instances. Attention would be given to this ahead as well.\n",
    "\n",
    "Will Try all again with:\n",
    "1. Adding polynomial features to handle bias.\n",
    "2. Checking and handling class imbalance issue using SMOTE oversampler and random undersampler.\n"
   ]
  },
  {
   "cell_type": "markdown",
   "id": "62927831",
   "metadata": {},
   "source": [
    "## Modeling Iteration 2"
   ]
  },
  {
   "cell_type": "markdown",
   "id": "0cb95ac7",
   "metadata": {},
   "source": [
    "#### Function to return polynomial features"
   ]
  },
  {
   "cell_type": "code",
   "execution_count": 24,
   "id": "3a410434",
   "metadata": {},
   "outputs": [],
   "source": [
    "\n",
    "def features_poly(X_train, X_test, deg, bias_term = False, interaction_only = True):\n",
    "    \n",
    "    print(\"X_train Shape: {}\".format(X_train.shape))\n",
    "    \n",
    "    from sklearn.preprocessing import PolynomialFeatures\n",
    "    \n",
    "    interaction = PolynomialFeatures(degree=deg, interaction_only=interaction_only, include_bias=bias_term)\n",
    "    X_train_poly = interaction.fit_transform(X_train)\n",
    "    X_test_poly = interaction.fit_transform(X_test)\n",
    "    \n",
    "    print(\"X_train with interact Shape: {}\".format(X_train_poly.shape))\n",
    "    print(\"X_test with interact Shape: {}\".format(X_test_poly.shape))\n",
    "    \n",
    "    return(X_train_poly, X_test_poly)"
   ]
  },
  {
   "cell_type": "markdown",
   "id": "12f8d46e",
   "metadata": {},
   "source": [
    "#### Function to return balanced training datasets"
   ]
  },
  {
   "cell_type": "code",
   "execution_count": 25,
   "id": "cd44900b",
   "metadata": {
    "scrolled": false
   },
   "outputs": [],
   "source": [
    "\n",
    "def class_balancer(X, y):\n",
    "    \"\"\"Gives out model data with no class balance.\n",
    "    Oversamples the smaller class to 30k using SMOTE and\n",
    "    undersamples the bigger class to 30k using random undersampler\"\"\"\n",
    "    # Importing Packages\n",
    "    from imblearn.over_sampling import SMOTE \n",
    "    from imblearn.under_sampling import RandomUnderSampler\n",
    "\n",
    "    # Undersampling (majority class - 30000)\n",
    "    us = RandomUnderSampler(sampling_strategy={0: 30000}, random_state=42)\n",
    "    os = SMOTE(sampling_strategy = {1:30000,2:30000} , random_state=42)\n",
    "\n",
    "    X_samp, y_samp = us.fit_resample(X, y)\n",
    "    X_samp, y_samp = os.fit_resample(X_samp, y_samp)\n",
    "\n",
    "    print(f'''Shape of X before SMOTE: {X.shape}\n",
    "    Shape of X after SMOTE: {X_samp.shape}''')\n",
    "\n",
    "    print('\\nBalanced classes (%):')\n",
    "    print(pd.Series(y_samp).value_counts())\n",
    "    \n",
    "    return(X_samp, y_samp)\n"
   ]
  },
  {
   "cell_type": "markdown",
   "id": "2a0daebd",
   "metadata": {},
   "source": [
    "### Logistic Regression with Polynomial Features"
   ]
  },
  {
   "cell_type": "code",
   "execution_count": 26,
   "id": "c1e65e0c",
   "metadata": {},
   "outputs": [
    {
     "name": "stdout",
     "output_type": "stream",
     "text": [
      "X_train Shape: (70351, 4)\n",
      "X_train with interact Shape: (70351, 10)\n",
      "X_test with interact Shape: (17588, 10)\n",
      "Best Parameters {'Classifier__C': 0.5, 'Classifier__max_iter': 2000, 'Classifier__penalty': 'l2'}\n",
      "\n",
      " CV Accuracy 96.05264860269888\n",
      "Error Analysis\n",
      "\n",
      " Confusion Matrix: \n",
      "\n",
      "[[40427   527   738]\n",
      " [ 1408 12382     7]\n",
      " [   17     1 14844]]\n",
      "\n",
      " Train Accuracy  96.1649443504712\n",
      "\n",
      " Test Accuracy  96.24175574255173\n"
     ]
    }
   ],
   "source": [
    "X_tr,X_ts = features_poly(X_train, X_test, deg = 2, bias_term = False, interaction_only = True)\n",
    "\n",
    "logreg_parameters = {'Classifier__max_iter': [2000], 'Classifier__C': [0.5], 'Classifier__penalty': ['l2']}\n",
    "logreg = stellar_cv_classifier(model = \"Logistic\", X = X_tr, y = y_train, params = logreg_parameters, scaler = \"standard\")\n",
    "\n",
    "print(\"\\n Train Accuracy \",logreg.score(X_tr,y_train)*100)\n",
    "print(\"\\n Test Accuracy \",logreg.score(X_ts,y_test)*100)\n"
   ]
  },
  {
   "cell_type": "markdown",
   "id": "39db2499",
   "metadata": {},
   "source": [
    "### Gradient Boosting Classifier (GBC) with Polynomial Features"
   ]
  },
  {
   "cell_type": "code",
   "execution_count": 27,
   "id": "791df391",
   "metadata": {},
   "outputs": [
    {
     "name": "stdout",
     "output_type": "stream",
     "text": [
      "X_train Shape: (70351, 4)\n",
      "X_train with interact Shape: (70351, 10)\n",
      "X_test with interact Shape: (17588, 10)\n",
      "Best Parameters {'Classifier__learning_rate': 1, 'Classifier__max_depth': 1, 'Classifier__n_estimators': 200}\n",
      "\n",
      " CV Accuracy 97.24097910063126\n",
      "Error Analysis\n",
      "\n",
      " Confusion Matrix: \n",
      "\n",
      "[[41043   554    95]\n",
      " [ 1101 12693     3]\n",
      " [   17     0 14845]]\n",
      "\n",
      " Train Accuracy  97.48404429219201\n",
      "\n",
      " Test Accuracy  97.43006595405959\n"
     ]
    }
   ],
   "source": [
    "X_tr,X_ts = features_poly(X_train, X_test, deg = 2, bias_term = False, interaction_only = True)\n",
    "\n",
    "gbc_parameters = {'Classifier__n_estimators': [200],'Classifier__learning_rate' : [1],'Classifier__max_depth':[1]}\n",
    "gbc = stellar_cv_classifier(model = \"GBC\", X = X_tr, y = y_train, params = gbc_parameters, scaler = \"standard\")\n",
    "\n",
    "print(\"\\n Train Accuracy \",gbc.score(X_tr,y_train)*100)\n",
    "print(\"\\n Test Accuracy \",gbc.score(X_ts,y_test)*100)\n"
   ]
  },
  {
   "cell_type": "markdown",
   "id": "8ec90dea",
   "metadata": {},
   "source": [
    "### Gradient Boosting Classifier (GBC) with Balanced Classes"
   ]
  },
  {
   "cell_type": "code",
   "execution_count": 28,
   "id": "a068f8b9",
   "metadata": {},
   "outputs": [
    {
     "name": "stdout",
     "output_type": "stream",
     "text": [
      "Shape of X before SMOTE: (70351, 4)\n",
      "    Shape of X after SMOTE: (90000, 4)\n",
      "\n",
      "Balanced classes (%):\n",
      "0    30000\n",
      "1    30000\n",
      "2    30000\n",
      "dtype: int64\n",
      "Best Parameters {'Classifier__learning_rate': 1, 'Classifier__max_depth': 1, 'Classifier__n_estimators': 200}\n",
      "\n",
      " CV Accuracy 96.86111111111111\n",
      "Error Analysis\n",
      "\n",
      " Confusion Matrix: \n",
      "\n",
      "[[28899   856   245]\n",
      " [ 1516 28481     3]\n",
      " [    0     0 30000]]\n",
      "\n",
      " Train Accuracy  97.08888888888889\n",
      "\n",
      " Test Accuracy  96.68523993632022\n"
     ]
    }
   ],
   "source": [
    "X_tr_samp, y_tr_samp = class_balancer(X_train, y_train)\n",
    "\n",
    "gbc_parameters = {'Classifier__n_estimators': [200],'Classifier__learning_rate' : [1],'Classifier__max_depth':[1]}\n",
    "gbc = stellar_cv_classifier(model = \"GBC\", X = X_tr_samp, y = y_tr_samp, params = gbc_parameters, scaler = \"standard\")\n",
    "\n",
    "print(\"\\n Train Accuracy \",gbc.score(X_tr_samp,y_tr_samp)*100)\n",
    "print(\"\\n Test Accuracy \",gbc.score(X_test,y_test)*100)\n"
   ]
  },
  {
   "cell_type": "markdown",
   "id": "b28da7c5",
   "metadata": {},
   "source": [
    "### Gradient Boosting Classifier (GBC) with Balanced Classes and Polynomial Features"
   ]
  },
  {
   "cell_type": "code",
   "execution_count": 29,
   "id": "444c099d",
   "metadata": {},
   "outputs": [
    {
     "name": "stdout",
     "output_type": "stream",
     "text": [
      "Shape of X before SMOTE: (70351, 4)\n",
      "    Shape of X after SMOTE: (90000, 4)\n",
      "\n",
      "Balanced classes (%):\n",
      "0    30000\n",
      "1    30000\n",
      "2    30000\n",
      "dtype: int64\n",
      "X_train Shape: (90000, 4)\n",
      "X_train with interact Shape: (90000, 10)\n",
      "X_test with interact Shape: (17588, 10)\n",
      "Best Parameters {'Classifier__learning_rate': 1, 'Classifier__max_depth': 1, 'Classifier__n_estimators': 200}\n",
      "\n",
      " CV Accuracy 96.89777777777778\n",
      "Error Analysis\n",
      "\n",
      " Confusion Matrix: \n",
      "\n",
      "[[28837   901   262]\n",
      " [ 1466 28531     3]\n",
      " [    8     0 29992]]\n",
      "\n",
      " Train Accuracy  97.06666666666666\n",
      "\n",
      " Test Accuracy  96.62838298840119\n"
     ]
    }
   ],
   "source": [
    "X_tr_samp, y_tr_samp = class_balancer(X_train, y_train)\n",
    "X_tr, X_ts = features_poly(X_tr_samp, X_test, deg = 2, bias_term = False, interaction_only = True)\n",
    "\n",
    "gbc_parameters = {'Classifier__n_estimators': [200],'Classifier__learning_rate' : [1],'Classifier__max_depth':[1]}\n",
    "gbc = stellar_cv_classifier(model = \"GBC\", X = X_tr, y = y_tr_samp, params = gbc_parameters, scaler = \"standard\")\n",
    "\n",
    "print(\"\\n Train Accuracy \",gbc.score(X_tr,y_tr_samp)*100)\n",
    "print(\"\\n Test Accuracy \",gbc.score(X_ts,y_test)*100)\n"
   ]
  },
  {
   "cell_type": "markdown",
   "id": "254289e0",
   "metadata": {},
   "source": [
    "## Iteration 2 Conclusion"
   ]
  },
  {
   "cell_type": "markdown",
   "id": "0ddbc3a4",
   "metadata": {},
   "source": [
    "Since addition of polynomial features and class balancing did not improve the accuracy by much, we will go ahead with GBC classifier from iteration 1 to keep the process simple.\n",
    "\n",
    "Additionally, it can be said that the available data does not contain sufficient information to further increase accuracy (or reduce error), since the addition of polynomial features did not help with that. Hence, either new features or more data is required (by my understanding we had enough data and new features is what can help)"
   ]
  },
  {
   "cell_type": "markdown",
   "id": "0a7abda7",
   "metadata": {},
   "source": [
    "# Final Model\n",
    "##### Building the final GBC Model and evaluating on Test Data"
   ]
  },
  {
   "cell_type": "code",
   "execution_count": 30,
   "id": "c2167f52",
   "metadata": {},
   "outputs": [
    {
     "name": "stdout",
     "output_type": "stream",
     "text": [
      "\n",
      " Train Accuracy  97.43287231169421\n",
      "\n",
      " Test Accuracy  97.44143734364339\n",
      "\n",
      " Test Confusion Matrix \n",
      " [[10263   134    26]\n",
      " [  285  3164     0]\n",
      " [    4     1  3711]]\n",
      "\n",
      " Test Classification Report \n",
      "               precision    recall  f1-score   support\n",
      "\n",
      "           0       0.97      0.98      0.98     10423\n",
      "           1       0.96      0.92      0.94      3449\n",
      "           2       0.99      1.00      1.00      3716\n",
      "\n",
      "    accuracy                           0.97     17588\n",
      "   macro avg       0.97      0.97      0.97     17588\n",
      "weighted avg       0.97      0.97      0.97     17588\n",
      "\n"
     ]
    }
   ],
   "source": [
    "\n",
    "from sklearn.ensemble import GradientBoostingClassifier \n",
    "from sklearn.metrics import confusion_matrix\n",
    "from sklearn.metrics import classification_report\n",
    "\n",
    "scaler = StandardScaler()\n",
    "classifier = GradientBoostingClassifier(n_estimators=200, learning_rate=1.0, max_depth=1, random_state=20)\n",
    "steps = [(\"Scaler\",scaler),(\"Classifier\",classifier)]\n",
    "\n",
    "gbc_pipeline = Pipeline(steps)\n",
    "gbc_pipeline.fit(X_train,y_train)\n",
    "\n",
    "print(\"\\n Train Accuracy \",gbc_pipeline.score(X_train,y_train)*100)\n",
    "print(\"\\n Test Accuracy \",gbc_pipeline.score(X_test,y_test)*100)\n",
    "\n",
    "y_pred = gbc_pipeline.predict(X_test)\n",
    "print(\"\\n Test Confusion Matrix \\n\", confusion_matrix(y_test, y_pred))\n",
    "print(\"\\n Test Classification Report \\n\",classification_report(y_test, y_pred))\n"
   ]
  },
  {
   "cell_type": "markdown",
   "id": "f954b2f1",
   "metadata": {},
   "source": [
    "##### Model Evaluation "
   ]
  },
  {
   "cell_type": "markdown",
   "id": "01ef6a5a",
   "metadata": {},
   "source": [
    "\n",
    "Train Accuracy\n",
    ": 97.4%\n",
    "\n",
    "Test Accuracy\n",
    ": 97.4%"
   ]
  },
  {
   "cell_type": "markdown",
   "id": "ed75ca6c",
   "metadata": {},
   "source": [
    "## Future Work"
   ]
  },
  {
   "cell_type": "markdown",
   "id": "73ff8e34",
   "metadata": {},
   "source": [
    "Looking at the classification report and confusion matrix, it seems like the class 1 (that is QSO) has the least f1 score, as we suspected from iteration 1. \n",
    "\n",
    "More features/data is required to help the model learn to classify QSO's better. Furthermore, more undertanding of the features could help build a better and more interpretable model."
   ]
  }
 ],
 "metadata": {
  "kernelspec": {
   "display_name": "Python 3",
   "language": "python",
   "name": "python3"
  },
  "language_info": {
   "codemirror_mode": {
    "name": "ipython",
    "version": 3
   },
   "file_extension": ".py",
   "mimetype": "text/x-python",
   "name": "python",
   "nbconvert_exporter": "python",
   "pygments_lexer": "ipython3",
   "version": "3.8.8"
  }
 },
 "nbformat": 4,
 "nbformat_minor": 5
}
