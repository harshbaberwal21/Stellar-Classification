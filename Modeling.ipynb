{
 "cells": [
  {
   "cell_type": "code",
   "execution_count": 11,
   "id": "e72c9d6d",
   "metadata": {},
   "outputs": [],
   "source": [
    "## Importing Packages\n",
    "\n",
    "import pandas as pd\n",
    "import numpy as np\n",
    "\n",
    "from matplotlib.pyplot import figure\n",
    "import matplotlib.pyplot as plt\n",
    "import seaborn as sns\n",
    "\n",
    "from sklearn.preprocessing import PolynomialFeatures\n",
    "from sklearn.metrics import confusion_matrix\n",
    "\n",
    "from imblearn.over_sampling import SMOTE \n",
    "from imblearn.under_sampling import RandomUnderSampler\n",
    "\n",
    "from sklearn.model_selection import train_test_split\n",
    "from sklearn.preprocessing import LabelEncoder\n",
    "\n",
    "from sklearn.preprocessing import MinMaxScaler\n",
    "from sklearn.preprocessing import StandardScaler\n",
    "\n",
    "from sklearn.model_selection import cross_val_score\n",
    "from sklearn.model_selection import GridSearchCV\n",
    "from sklearn.metrics import roc_auc_score\n",
    "\n",
    "from sklearn.pipeline import Pipeline\n",
    "\n",
    "## Logistic\n",
    "from sklearn.linear_model import LogisticRegression\n",
    "### Random Forest\n",
    "from sklearn.ensemble import RandomForestClassifier\n",
    "### KNN Classifier\n",
    "from sklearn.neighbors import KNeighborsClassifier\n",
    "### Getting Gradient Boost\n",
    "from sklearn.ensemble import GradientBoostingClassifier \n",
    "### Linear SVC\n",
    "from sklearn.svm import LinearSVC\n",
    "\n",
    "from sklearn.metrics import confusion_matrix\n",
    "from sklearn.metrics import classification_report"
   ]
  },
  {
   "cell_type": "code",
   "execution_count": 3,
   "id": "ca83a2d0",
   "metadata": {},
   "outputs": [],
   "source": [
    "## Reading in the data\n",
    "stellar_features = pd.read_csv(\"stellar_features.csv\", index_col = 0)"
   ]
  },
  {
   "cell_type": "markdown",
   "id": "4d4fa8fd",
   "metadata": {},
   "source": [
    "### Checking data"
   ]
  },
  {
   "cell_type": "code",
   "execution_count": 4,
   "id": "65a8b2c5",
   "metadata": {},
   "outputs": [
    {
     "name": "stdout",
     "output_type": "stream",
     "text": [
      "Sample Shape :\n",
      "(87939, 7) \n",
      "\n",
      "Sample Data Types :\n",
      "u           float64\n",
      "g           float64\n",
      "r           float64\n",
      "i           float64\n",
      "z           float64\n",
      "redshift    float64\n",
      "class        object\n",
      "dtype: object \n",
      "\n"
     ]
    }
   ],
   "source": [
    "print(\"Sample Shape :\\n{} \\n\".format(stellar_features.shape))\n",
    "print(\"Sample Data Types :\\n{} \\n\".format(stellar_features.dtypes))"
   ]
  },
  {
   "cell_type": "code",
   "execution_count": 5,
   "id": "b2409e25",
   "metadata": {},
   "outputs": [
    {
     "name": "stdout",
     "output_type": "stream",
     "text": [
      "<class 'pandas.core.frame.DataFrame'>\n",
      "Int64Index: 87939 entries, 0 to 99999\n",
      "Data columns (total 7 columns):\n",
      " #   Column    Non-Null Count  Dtype  \n",
      "---  ------    --------------  -----  \n",
      " 0   u         87939 non-null  float64\n",
      " 1   g         87939 non-null  float64\n",
      " 2   r         87939 non-null  float64\n",
      " 3   i         87939 non-null  float64\n",
      " 4   z         87939 non-null  float64\n",
      " 5   redshift  87939 non-null  float64\n",
      " 6   class     87939 non-null  object \n",
      "dtypes: float64(6), object(1)\n",
      "memory usage: 5.4+ MB\n",
      "None\n"
     ]
    }
   ],
   "source": [
    "print(stellar_features.info())"
   ]
  },
  {
   "cell_type": "code",
   "execution_count": 50,
   "id": "491637a3",
   "metadata": {},
   "outputs": [
    {
     "data": {
      "text/html": [
       "<div>\n",
       "<style scoped>\n",
       "    .dataframe tbody tr th:only-of-type {\n",
       "        vertical-align: middle;\n",
       "    }\n",
       "\n",
       "    .dataframe tbody tr th {\n",
       "        vertical-align: top;\n",
       "    }\n",
       "\n",
       "    .dataframe thead th {\n",
       "        text-align: right;\n",
       "    }\n",
       "</style>\n",
       "<table border=\"1\" class=\"dataframe\">\n",
       "  <thead>\n",
       "    <tr style=\"text-align: right;\">\n",
       "      <th></th>\n",
       "      <th>u</th>\n",
       "      <th>g</th>\n",
       "      <th>r</th>\n",
       "      <th>i</th>\n",
       "      <th>z</th>\n",
       "      <th>redshift</th>\n",
       "    </tr>\n",
       "  </thead>\n",
       "  <tbody>\n",
       "    <tr>\n",
       "      <th>count</th>\n",
       "      <td>87939.000000</td>\n",
       "      <td>87939.000000</td>\n",
       "      <td>87939.000000</td>\n",
       "      <td>87939.000000</td>\n",
       "      <td>87939.000000</td>\n",
       "      <td>87939.000000</td>\n",
       "    </tr>\n",
       "    <tr>\n",
       "      <th>mean</th>\n",
       "      <td>22.076154</td>\n",
       "      <td>20.630654</td>\n",
       "      <td>19.640179</td>\n",
       "      <td>19.079038</td>\n",
       "      <td>18.761662</td>\n",
       "      <td>0.583572</td>\n",
       "    </tr>\n",
       "    <tr>\n",
       "      <th>std</th>\n",
       "      <td>2.255119</td>\n",
       "      <td>2.039452</td>\n",
       "      <td>1.849442</td>\n",
       "      <td>1.751695</td>\n",
       "      <td>1.758200</td>\n",
       "      <td>0.734421</td>\n",
       "    </tr>\n",
       "    <tr>\n",
       "      <th>min</th>\n",
       "      <td>10.996230</td>\n",
       "      <td>10.498200</td>\n",
       "      <td>9.822070</td>\n",
       "      <td>9.469903</td>\n",
       "      <td>9.612333</td>\n",
       "      <td>-0.009971</td>\n",
       "    </tr>\n",
       "    <tr>\n",
       "      <th>25%</th>\n",
       "      <td>20.341365</td>\n",
       "      <td>18.960475</td>\n",
       "      <td>18.127585</td>\n",
       "      <td>17.726360</td>\n",
       "      <td>17.452335</td>\n",
       "      <td>0.060015</td>\n",
       "    </tr>\n",
       "    <tr>\n",
       "      <th>50%</th>\n",
       "      <td>22.166240</td>\n",
       "      <td>21.097100</td>\n",
       "      <td>20.130540</td>\n",
       "      <td>19.411060</td>\n",
       "      <td>19.009440</td>\n",
       "      <td>0.427993</td>\n",
       "    </tr>\n",
       "    <tr>\n",
       "      <th>75%</th>\n",
       "      <td>23.693860</td>\n",
       "      <td>22.111265</td>\n",
       "      <td>21.034150</td>\n",
       "      <td>20.387805</td>\n",
       "      <td>19.911320</td>\n",
       "      <td>0.705997</td>\n",
       "    </tr>\n",
       "    <tr>\n",
       "      <th>max</th>\n",
       "      <td>32.781390</td>\n",
       "      <td>31.602240</td>\n",
       "      <td>29.571860</td>\n",
       "      <td>32.141470</td>\n",
       "      <td>29.383740</td>\n",
       "      <td>7.011245</td>\n",
       "    </tr>\n",
       "  </tbody>\n",
       "</table>\n",
       "</div>"
      ],
      "text/plain": [
       "                  u             g             r             i             z  \\\n",
       "count  87939.000000  87939.000000  87939.000000  87939.000000  87939.000000   \n",
       "mean      22.076154     20.630654     19.640179     19.079038     18.761662   \n",
       "std        2.255119      2.039452      1.849442      1.751695      1.758200   \n",
       "min       10.996230     10.498200      9.822070      9.469903      9.612333   \n",
       "25%       20.341365     18.960475     18.127585     17.726360     17.452335   \n",
       "50%       22.166240     21.097100     20.130540     19.411060     19.009440   \n",
       "75%       23.693860     22.111265     21.034150     20.387805     19.911320   \n",
       "max       32.781390     31.602240     29.571860     32.141470     29.383740   \n",
       "\n",
       "           redshift  \n",
       "count  87939.000000  \n",
       "mean       0.583572  \n",
       "std        0.734421  \n",
       "min       -0.009971  \n",
       "25%        0.060015  \n",
       "50%        0.427993  \n",
       "75%        0.705997  \n",
       "max        7.011245  "
      ]
     },
     "execution_count": 50,
     "metadata": {},
     "output_type": "execute_result"
    }
   ],
   "source": [
    "features = ['u','g','r','i','z','redshift']\n",
    "classes = stellar_features[\"class\"].unique()\n",
    "stellar_features.describe()"
   ]
  },
  {
   "cell_type": "code",
   "execution_count": 8,
   "id": "f236c8e5",
   "metadata": {},
   "outputs": [
    {
     "name": "stdout",
     "output_type": "stream",
     "text": [
      "['u', 'g', 'r', 'i', 'z', 'redshift']\n"
     ]
    }
   ],
   "source": [
    "print(features)"
   ]
  },
  {
   "cell_type": "code",
   "execution_count": 9,
   "id": "3a5e9f8d",
   "metadata": {},
   "outputs": [
    {
     "name": "stdout",
     "output_type": "stream",
     "text": [
      "['GALAXY' 'QSO' 'STAR']\n"
     ]
    },
    {
     "data": {
      "text/plain": [
       "u            float64\n",
       "g            float64\n",
       "r            float64\n",
       "i            float64\n",
       "z            float64\n",
       "redshift     float64\n",
       "class       category\n",
       "dtype: object"
      ]
     },
     "execution_count": 9,
     "metadata": {},
     "output_type": "execute_result"
    }
   ],
   "source": [
    "## Checking the classes\n",
    "print(stellar_features[\"class\"].unique())\n",
    "\n",
    "## Saving class as a category\n",
    "stellar_features[\"class\"] = stellar_features[\"class\"].astype(\"category\")\n",
    "stellar_features.dtypes"
   ]
  },
  {
   "cell_type": "markdown",
   "id": "84d326af",
   "metadata": {},
   "source": [
    "#### Type casted to category for efficiency\n"
   ]
  },
  {
   "cell_type": "code",
   "execution_count": 12,
   "id": "b13659e1",
   "metadata": {},
   "outputs": [
    {
     "name": "stdout",
     "output_type": "stream",
     "text": [
      "                 u         g         r         i         z  redshift\n",
      "u         1.000000  0.853347  0.727495  0.615436  0.541491  0.158087\n",
      "g         0.853347  1.000000  0.931925  0.844366  0.770890  0.312706\n",
      "r         0.727495  0.931925  1.000000  0.962108  0.917534  0.431491\n",
      "i         0.615436  0.844366  0.962108  1.000000  0.971108  0.493881\n",
      "z         0.541491  0.770890  0.917534  0.971108  1.000000  0.503812\n",
      "redshift  0.158087  0.312706  0.431491  0.493881  0.503812  1.000000\n"
     ]
    },
    {
     "data": {
      "text/plain": [
       "<AxesSubplot:>"
      ]
     },
     "execution_count": 12,
     "metadata": {},
     "output_type": "execute_result"
    },
    {
     "data": {
      "image/png": "[encoded data removed]",
      "text/plain": [
       "<Figure size 432x288 with 2 Axes>"
      ]
     },
     "metadata": {
      "needs_background": "light"
     },
     "output_type": "display_data"
    }
   ],
   "source": [
    "## Checking and handling multicollinearity\n",
    "print(stellar_features.corr())\n",
    "sns.heatmap(stellar_features.corr())\n"
   ]
  },
  {
   "cell_type": "markdown",
   "id": "6793904e",
   "metadata": {},
   "source": [
    "We will use PCA to de-correlate the features"
   ]
  },
  {
   "cell_type": "code",
   "execution_count": 75,
   "id": "ad2fd5c7",
   "metadata": {},
   "outputs": [],
   "source": [
    "class_col = stellar_features[\"class\"].values"
   ]
  },
  {
   "cell_type": "code",
   "execution_count": 70,
   "id": "3b9d408a",
   "metadata": {},
   "outputs": [
    {
     "data": {
      "text/plain": [
       "<BarContainer object of 6 artists>"
      ]
     },
     "execution_count": 70,
     "metadata": {},
     "output_type": "execute_result"
    },
    {
     "data": {
      "image/png": "[encoded data removed]",
      "text/plain": [
       "<Figure size 432x288 with 1 Axes>"
      ]
     },
     "metadata": {
      "needs_background": "light"
     },
     "output_type": "display_data"
    }
   ],
   "source": [
    "#### PCA\n",
    "\n",
    "## Fitting PCA to the features\n",
    "from sklearn.decomposition import PCA\n",
    "model = PCA()\n",
    "\n",
    "model.fit(stellar_features[features].values)\n",
    "\n",
    "pca_comps = range(model.n_components_)\n",
    "\n",
    "plt.bar(pca_comps, [(x * 100)/sum(model.explained_variance_) for x in [model.explained_variance_]][0])"
   ]
  },
  {
   "cell_type": "markdown",
   "id": "e041a427",
   "metadata": {},
   "source": [
    "##### Since almost all of the variance is explained by the first 4 components, we will fit PCA again with 4 components only and then transform the features for modelling."
   ]
  },
  {
   "cell_type": "code",
   "execution_count": 130,
   "id": "9adf6e8f",
   "metadata": {},
   "outputs": [
    {
     "data": {
      "text/plain": [
       "(87939, 4)"
      ]
     },
     "execution_count": 130,
     "metadata": {},
     "output_type": "execute_result"
    }
   ],
   "source": [
    "## Fitting PCA\n",
    "model = PCA(n_components=4)\n",
    "stellar_transformed = model.fit_transform(stellar_features[features].values)\n",
    "stellar_transformed.shape"
   ]
  },
  {
   "cell_type": "code",
   "execution_count": 143,
   "id": "d6b7a7ad",
   "metadata": {},
   "outputs": [],
   "source": [
    "## Adding class col to the PCA transformed features array\n",
    "stellar_transformed_1 = np.concatenate((stellar_transformed, np.array(class_var).reshape(-1 , 1)), 1)"
   ]
  },
  {
   "cell_type": "code",
   "execution_count": 144,
   "id": "4ca4e840",
   "metadata": {},
   "outputs": [
    {
     "data": {
      "text/plain": [
       "(87939, 5)"
      ]
     },
     "execution_count": 144,
     "metadata": {},
     "output_type": "execute_result"
    }
   ],
   "source": [
    "## Checking the shape of the data\n",
    "stellar_transformed_1.shape"
   ]
  },
  {
   "cell_type": "code",
   "execution_count": 217,
   "id": "f6697beb",
   "metadata": {},
   "outputs": [
    {
     "name": "stdout",
     "output_type": "stream",
     "text": [
      "<class 'pandas.core.frame.DataFrame'>\n",
      "RangeIndex: 87939 entries, 0 to 87938\n",
      "Data columns (total 5 columns):\n",
      " #   Column  Non-Null Count  Dtype \n",
      "---  ------  --------------  ----- \n",
      " 0   X1      87939 non-null  object\n",
      " 1   X2      87939 non-null  object\n",
      " 2   X3      87939 non-null  object\n",
      " 3   X4      87939 non-null  object\n",
      " 4   Class   87939 non-null  object\n",
      "dtypes: object(5)\n",
      "memory usage: 3.4+ MB\n"
     ]
    }
   ],
   "source": [
    "## Creating a dataframe for modeling\n",
    "stellar_transformed_2 = pd.DataFrame(\\\n",
    "                                     stellar_transformed_1, \\\n",
    "                                     columns = [\"X\" + str(x) for x in range(1,5)]+[\"Class\"]\\\n",
    "                                    )\n",
    "stellar_transformed_2.info()"
   ]
  },
  {
   "cell_type": "code",
   "execution_count": 228,
   "id": "7ec264ca",
   "metadata": {},
   "outputs": [
    {
     "data": {
      "text/plain": [
       "<AxesSubplot:>"
      ]
     },
     "execution_count": 228,
     "metadata": {},
     "output_type": "execute_result"
    },
    {
     "data": {
      "image/png": "[encoded data removed]",
      "text/plain": [
       "<Figure size 432x288 with 2 Axes>"
      ]
     },
     "metadata": {
      "needs_background": "light"
     },
     "output_type": "display_data"
    }
   ],
   "source": [
    "## Checking again for multicllinearity (all correlations would be almost 0)\n",
    "sns.heatmap(stellar_transformed_2.loc[:,[\"X1\", \"X2\", \"X3\", \"X4\"]].astype(\"float32\").corr())"
   ]
  },
  {
   "cell_type": "code",
   "execution_count": 229,
   "id": "e2b5fe2e",
   "metadata": {},
   "outputs": [
    {
     "data": {
      "text/html": [
       "<div>\n",
       "<style scoped>\n",
       "    .dataframe tbody tr th:only-of-type {\n",
       "        vertical-align: middle;\n",
       "    }\n",
       "\n",
       "    .dataframe tbody tr th {\n",
       "        vertical-align: top;\n",
       "    }\n",
       "\n",
       "    .dataframe thead th {\n",
       "        text-align: right;\n",
       "    }\n",
       "</style>\n",
       "<table border=\"1\" class=\"dataframe\">\n",
       "  <thead>\n",
       "    <tr style=\"text-align: right;\">\n",
       "      <th></th>\n",
       "      <th>X1</th>\n",
       "      <th>X2</th>\n",
       "      <th>X3</th>\n",
       "      <th>X4</th>\n",
       "      <th>Class</th>\n",
       "    </tr>\n",
       "  </thead>\n",
       "  <tbody>\n",
       "    <tr>\n",
       "      <th>0</th>\n",
       "      <td>-2.062571</td>\n",
       "      <td>-1.406595</td>\n",
       "      <td>-0.235219</td>\n",
       "      <td>0.453537</td>\n",
       "      <td>GALAXY</td>\n",
       "    </tr>\n",
       "    <tr>\n",
       "      <th>1</th>\n",
       "      <td>-5.686756</td>\n",
       "      <td>0.340716</td>\n",
       "      <td>0.210096</td>\n",
       "      <td>-0.636528</td>\n",
       "      <td>GALAXY</td>\n",
       "    </tr>\n",
       "    <tr>\n",
       "      <th>2</th>\n",
       "      <td>-3.146103</td>\n",
       "      <td>-2.310178</td>\n",
       "      <td>0.131141</td>\n",
       "      <td>0.240929</td>\n",
       "      <td>GALAXY</td>\n",
       "    </tr>\n",
       "    <tr>\n",
       "      <th>3</th>\n",
       "      <td>6.742798</td>\n",
       "      <td>-0.879236</td>\n",
       "      <td>-0.021228</td>\n",
       "      <td>0.301465</td>\n",
       "      <td>GALAXY</td>\n",
       "    </tr>\n",
       "    <tr>\n",
       "      <th>4</th>\n",
       "      <td>-3.618403</td>\n",
       "      <td>-0.216971</td>\n",
       "      <td>-0.37996</td>\n",
       "      <td>1.243353</td>\n",
       "      <td>QSO</td>\n",
       "    </tr>\n",
       "    <tr>\n",
       "      <th>...</th>\n",
       "      <td>...</td>\n",
       "      <td>...</td>\n",
       "      <td>...</td>\n",
       "      <td>...</td>\n",
       "      <td>...</td>\n",
       "    </tr>\n",
       "    <tr>\n",
       "      <th>87934</th>\n",
       "      <td>-5.052316</td>\n",
       "      <td>-2.181713</td>\n",
       "      <td>-0.361496</td>\n",
       "      <td>0.402674</td>\n",
       "      <td>GALAXY</td>\n",
       "    </tr>\n",
       "    <tr>\n",
       "      <th>87935</th>\n",
       "      <td>-2.044937</td>\n",
       "      <td>-0.071745</td>\n",
       "      <td>-0.774017</td>\n",
       "      <td>0.295611</td>\n",
       "      <td>GALAXY</td>\n",
       "    </tr>\n",
       "    <tr>\n",
       "      <th>87936</th>\n",
       "      <td>2.903745</td>\n",
       "      <td>-0.631386</td>\n",
       "      <td>-0.044715</td>\n",
       "      <td>-0.107984</td>\n",
       "      <td>GALAXY</td>\n",
       "    </tr>\n",
       "    <tr>\n",
       "      <th>87937</th>\n",
       "      <td>-2.113288</td>\n",
       "      <td>-2.622769</td>\n",
       "      <td>0.632442</td>\n",
       "      <td>-0.314636</td>\n",
       "      <td>GALAXY</td>\n",
       "    </tr>\n",
       "    <tr>\n",
       "      <th>87938</th>\n",
       "      <td>-1.850739</td>\n",
       "      <td>0.163444</td>\n",
       "      <td>-0.452435</td>\n",
       "      <td>0.152361</td>\n",
       "      <td>GALAXY</td>\n",
       "    </tr>\n",
       "  </tbody>\n",
       "</table>\n",
       "<p>87939 rows × 5 columns</p>\n",
       "</div>"
      ],
      "text/plain": [
       "             X1        X2        X3        X4   Class\n",
       "0     -2.062571 -1.406595 -0.235219  0.453537  GALAXY\n",
       "1     -5.686756  0.340716  0.210096 -0.636528  GALAXY\n",
       "2     -3.146103 -2.310178  0.131141  0.240929  GALAXY\n",
       "3      6.742798 -0.879236 -0.021228  0.301465  GALAXY\n",
       "4     -3.618403 -0.216971  -0.37996  1.243353     QSO\n",
       "...         ...       ...       ...       ...     ...\n",
       "87934 -5.052316 -2.181713 -0.361496  0.402674  GALAXY\n",
       "87935 -2.044937 -0.071745 -0.774017  0.295611  GALAXY\n",
       "87936  2.903745 -0.631386 -0.044715 -0.107984  GALAXY\n",
       "87937 -2.113288 -2.622769  0.632442 -0.314636  GALAXY\n",
       "87938 -1.850739  0.163444 -0.452435  0.152361  GALAXY\n",
       "\n",
       "[87939 rows x 5 columns]"
      ]
     },
     "execution_count": 229,
     "metadata": {},
     "output_type": "execute_result"
    }
   ],
   "source": [
    "## Checking the transformed features and classes dataframe created\n",
    "stellar_transformed_2.head()"
   ]
  },
  {
   "cell_type": "markdown",
   "id": "94a7b110",
   "metadata": {},
   "source": [
    "#### Minimal Correlation"
   ]
  },
  {
   "cell_type": "markdown",
   "id": "468a80ff",
   "metadata": {},
   "source": [
    "### Creating train and test splits"
   ]
  },
  {
   "cell_type": "code",
   "execution_count": 347,
   "id": "b17257ab",
   "metadata": {},
   "outputs": [
    {
     "name": "stdout",
     "output_type": "stream",
     "text": [
      "(70351, 4)\n",
      "(17588, 4)\n",
      "(70351,)\n",
      "(17588,)\n"
     ]
    }
   ],
   "source": [
    "X_train, X_test, y_train, y_test = train_test_split(stellar_transformed_2.iloc[:,:-1],\\\n",
    "                                                    stellar_transformed_2.iloc[:,-1], \\\n",
    "                                                    test_size=0.2,\\\n",
    "                                                    stratify=stellar_transformed_2.iloc[:,-1],random_state=21)\n",
    "\n",
    "print(X_train.shape) \n",
    "print(X_test.shape)\n",
    "print(y_train.shape)\n",
    "print(y_test.shape)\n"
   ]
  },
  {
   "cell_type": "markdown",
   "id": "a68311b2",
   "metadata": {},
   "source": [
    "### Encoding target variable"
   ]
  },
  {
   "cell_type": "code",
   "execution_count": 349,
   "id": "0ce9f24d",
   "metadata": {},
   "outputs": [],
   "source": [
    "le = LabelEncoder()\n",
    "y_train = le.fit_transform(y_train[:])\n",
    "y_test = le.transform(y_test[:])\n"
   ]
  },
  {
   "cell_type": "markdown",
   "id": "01f067b3",
   "metadata": {},
   "source": [
    "## Modeling Iteration 1"
   ]
  },
  {
   "cell_type": "code",
   "execution_count": 394,
   "id": "af7c01b0",
   "metadata": {},
   "outputs": [
    {
     "name": "stdout",
     "output_type": "stream",
     "text": [
      "This function returns a GridSearchCV object and prints some accuracy scores.\n",
      "        Model can take the values: Logistic, RandomForest, KNN, GBC, SVC.\n",
      "        Scaler can be min_max(0,1) or standard.\n",
      "        \n",
      "        Create params just like you would for GridSearchCV in pipeline. \n",
      "        params = {'Classifier__(parameter name))}':[Parameter Values List]}\n",
      "        Example : parameters = {'Classifier__n_neighbors': [6,7]} \n"
     ]
    }
   ],
   "source": [
    "print(stellar_cv_classifier.__doc__)"
   ]
  },
  {
   "cell_type": "markdown",
   "id": "df1e77d6",
   "metadata": {},
   "source": [
    "#### Writing a function to take in the training data, parameters grid and classifier algorithm, and use these to build a model, with 4-fold cross validation and a grid search over the parameters."
   ]
  },
  {
   "cell_type": "code",
   "execution_count": 395,
   "id": "a06982b0",
   "metadata": {},
   "outputs": [],
   "source": [
    "## KNN default n_neighbors set to 6. No particular reason as of now. It will be updated later in grid search.\n",
    "\n",
    "def stellar_cv_classifier(model, X, y, params, scaler):\n",
    "    \"\"\"This function returns a GridSearchCV object and prints some accuracy scores.\n",
    "        Model can take the values: Logistic, RandomForest, KNN, GBC and SVC.\n",
    "        Scaler can be min_max(0,1) or standard.\n",
    "        \n",
    "        Create params just like you would for GridSearchCV in pipeline. \n",
    "        params = {'Classifier__(parameter name))}':[Parameter Values List]}\n",
    "        Example : parameters = {'Classifier__n_neighbors': [6,7]} \"\"\"\n",
    "    \n",
    "    \n",
    "    \n",
    "    if scaler == \"standard\":\n",
    "        scaler = StandardScaler()\n",
    "    elif scaler == \"min_max\":\n",
    "        scaler = MinMaxScaler((0,1))\n",
    "    \n",
    "    if model == \"Logistic\":\n",
    "        classifier = LogisticRegression(max_iter=1000)\n",
    "    \n",
    "    elif model == \"RandomForest\":\n",
    "        classifier = RandomForestClassifier(random_state=123)\n",
    "\n",
    "    elif model == \"KNN\":\n",
    "        classifier = KNeighborsClassifier(n_neighbors = 6) \n",
    "\n",
    "    elif model == \"GBC\":\n",
    "        classifier = GradientBoostingClassifier(n_estimators=150, learning_rate=1.0, max_depth=1, random_state=20)\n",
    "    \n",
    "    elif model == \"LinearSVC\":\n",
    "        classifier = LinearSVC(random_state=20)\n",
    "        \n",
    "\n",
    "\n",
    "    #### Setting the pipeline\n",
    "    steps = [(\"Scaler\",scaler),(\"Classifier\",classifier)]\n",
    "    model_pipeline = Pipeline(steps)\n",
    "\n",
    "\n",
    "\n",
    "    cv = GridSearchCV(model_pipeline, param_grid=params, cv = 4)\n",
    "    cv.fit(X, y)\n",
    "    \n",
    "    #### Evaluation\n",
    "    print(\"Best Parameters {}\".format(cv.best_params_))\n",
    "    print(\"\\n CV Accuracy {}\".format(cv.best_score_*100))\n",
    "\n",
    "\n",
    "    #### Error Analysis\n",
    "    print(\"Error Analysis\")\n",
    "    y_pred = cv.predict(X)\n",
    "    print(\"\\n Confusion Matrix: \\n\")\n",
    "    print(confusion_matrix(y, y_pred))\n",
    "    \n",
    "    return(cv)\n",
    "\n"
   ]
  },
  {
   "cell_type": "markdown",
   "id": "0456e61f",
   "metadata": {},
   "source": [
    "##### Building a basic logistic regression model"
   ]
  },
  {
   "cell_type": "code",
   "execution_count": 351,
   "id": "a93c8a09",
   "metadata": {},
   "outputs": [
    {
     "name": "stdout",
     "output_type": "stream",
     "text": [
      "Best Parameters {'Classifier__max_iter': 1000}\n",
      "\n",
      " CV Accuracy 95.41442152253407\n",
      "Error Analysis\n",
      "\n",
      " Confusion Matrix: \n",
      "\n",
      "[[40151   700   841]\n",
      " [ 1580 12209     8]\n",
      " [   57    11 14794]]\n",
      "\n",
      " Train Accuracy  95.45564384301574\n",
      "\n",
      " Test Accuracy  95.5253581987719\n"
     ]
    }
   ],
   "source": [
    "logreg_parameters = {'Classifier__max_iter': [1000]}\n",
    "logreg = stellar_cv_classifier(model = \"Logistic\", X = X_train, y = y_train, params = logreg_parameters, scaler = \"standard\")\n",
    "\n",
    "print(\"\\n Train Accuracy \",logreg.score(X_train,y_train)*100)\n",
    "print(\"\\n Test Accuracy \",logreg.score(X_test,y_test)*100)\n"
   ]
  },
  {
   "cell_type": "markdown",
   "id": "8a6b6302",
   "metadata": {},
   "source": [
    "##### Fitting a random forest model"
   ]
  },
  {
   "cell_type": "code",
   "execution_count": 363,
   "id": "3aa40f31",
   "metadata": {},
   "outputs": [
    {
     "name": "stdout",
     "output_type": "stream",
     "text": [
      "Best Parameters {'Classifier__min_samples_leaf': 0.15, 'Classifier__n_estimators': 400}\n",
      "\n",
      " CV Accuracy 78.09554795064825\n",
      "Error Analysis\n",
      "\n",
      " Confusion Matrix: \n",
      "\n",
      "[[38685  1278  1729]\n",
      " [ 1824 11080   893]\n",
      " [ 9283    56  5523]]\n",
      "\n",
      " Train Accuracy  78.58879049338317\n",
      "\n",
      " Test Accuracy  79.00272913350011\n"
     ]
    }
   ],
   "source": [
    "rf_parameters = {'Classifier__n_estimators': [400], 'Classifier__min_samples_leaf':[0.15]}\n",
    "rf = stellar_cv_classifier(model = \"RandomForest\", X = X_train, y = y_train, params = rf_parameters, scaler = \"standard\")\n",
    "\n",
    "print(\"\\n Train Accuracy \",rf.score(X_train,y_train)*100)\n",
    "print(\"\\n Test Accuracy \",rf.score(X_test,y_test)*100)\n"
   ]
  },
  {
   "cell_type": "markdown",
   "id": "4093b700",
   "metadata": {},
   "source": [
    "##### Fitting a KNN model"
   ]
  },
  {
   "cell_type": "code",
   "execution_count": 353,
   "id": "cf404de5",
   "metadata": {},
   "outputs": [
    {
     "name": "stdout",
     "output_type": "stream",
     "text": [
      "Best Parameters {'Classifier__n_neighbors': 5}\n",
      "\n",
      " CV Accuracy 95.78257478636472\n",
      "Error Analysis\n",
      "\n",
      " Confusion Matrix: \n",
      "\n",
      "[[40417   417   858]\n",
      " [  835 12931    31]\n",
      " [  214     5 14643]]\n",
      "\n",
      " Train Accuracy  96.64539238958935\n",
      "\n",
      " Test Accuracy  95.94609961337277\n"
     ]
    }
   ],
   "source": [
    "knn_parameters = {'Classifier__n_neighbors': [4,5,6,7,8]}\n",
    "knn = stellar_cv_classifier(model = \"KNN\", X = X_train, y = y_train, params = knn_parameters, scaler = \"standard\")\n",
    "\n",
    "print(\"\\n Train Accuracy \",knn.score(X_train,y_train)*100)\n",
    "print(\"\\n Test Accuracy \",knn.score(X_test,y_test)*100)\n"
   ]
  },
  {
   "cell_type": "markdown",
   "id": "f607fd37",
   "metadata": {},
   "source": [
    "##### Fitting a Gradient Boosting Classifier model"
   ]
  },
  {
   "cell_type": "code",
   "execution_count": 354,
   "id": "81498b78",
   "metadata": {},
   "outputs": [
    {
     "name": "stdout",
     "output_type": "stream",
     "text": [
      "Best Parameters {'Classifier__learning_rate': 1, 'Classifier__max_depth': 1, 'Classifier__n_estimators': 200}\n",
      "\n",
      " CV Accuracy 93.70868649439062\n",
      "Error Analysis\n",
      "\n",
      " Confusion Matrix: \n",
      "\n",
      "[[39724   519  1449]\n",
      " [ 1246 12508    43]\n",
      " [  851     1 14010]]\n",
      "\n",
      " Train Accuracy  94.1592870037384\n",
      "\n",
      " Test Accuracy  93.4841937684785\n"
     ]
    }
   ],
   "source": [
    "gbc_parameters = {'Classifier__n_estimators': [200],'Classifier__learning_rate' : [1],'Classifier__max_depth':[1]}\n",
    "gbc = stellar_cv_classifier(model = \"GBC\", X = X_train, y = y_train, params = gbc_parameters, scaler = \"standard\")\n",
    "\n",
    "print(\"\\n Train Accuracy \",gbc.score(X_train,y_train)*100)\n",
    "print(\"\\n Test Accuracy \",gbc.score(X_test,y_test)*100)\n"
   ]
  },
  {
   "cell_type": "markdown",
   "id": "effbac02",
   "metadata": {},
   "source": [
    "##### Trying out a linear support vector model"
   ]
  },
  {
   "cell_type": "code",
   "execution_count": 356,
   "id": "4becda9f",
   "metadata": {
    "scrolled": true
   },
   "outputs": [
    {
     "name": "stderr",
     "output_type": "stream",
     "text": [
      "/Users/harshbaberwal/opt/anaconda3/lib/python3.8/site-packages/sklearn/svm/_base.py:1206: ConvergenceWarning: Liblinear failed to converge, increase the number of iterations.\n",
      "  warnings.warn(\n",
      "/Users/harshbaberwal/opt/anaconda3/lib/python3.8/site-packages/sklearn/svm/_base.py:1206: ConvergenceWarning: Liblinear failed to converge, increase the number of iterations.\n",
      "  warnings.warn(\n",
      "/Users/harshbaberwal/opt/anaconda3/lib/python3.8/site-packages/sklearn/svm/_base.py:1206: ConvergenceWarning: Liblinear failed to converge, increase the number of iterations.\n",
      "  warnings.warn(\n",
      "/Users/harshbaberwal/opt/anaconda3/lib/python3.8/site-packages/sklearn/svm/_base.py:1206: ConvergenceWarning: Liblinear failed to converge, increase the number of iterations.\n",
      "  warnings.warn(\n",
      "/Users/harshbaberwal/opt/anaconda3/lib/python3.8/site-packages/sklearn/svm/_base.py:1206: ConvergenceWarning: Liblinear failed to converge, increase the number of iterations.\n",
      "  warnings.warn(\n",
      "/Users/harshbaberwal/opt/anaconda3/lib/python3.8/site-packages/sklearn/svm/_base.py:1206: ConvergenceWarning: Liblinear failed to converge, increase the number of iterations.\n",
      "  warnings.warn(\n",
      "/Users/harshbaberwal/opt/anaconda3/lib/python3.8/site-packages/sklearn/svm/_base.py:1206: ConvergenceWarning: Liblinear failed to converge, increase the number of iterations.\n",
      "  warnings.warn(\n",
      "/Users/harshbaberwal/opt/anaconda3/lib/python3.8/site-packages/sklearn/svm/_base.py:1206: ConvergenceWarning: Liblinear failed to converge, increase the number of iterations.\n",
      "  warnings.warn(\n",
      "/Users/harshbaberwal/opt/anaconda3/lib/python3.8/site-packages/sklearn/svm/_base.py:1206: ConvergenceWarning: Liblinear failed to converge, increase the number of iterations.\n",
      "  warnings.warn(\n",
      "/Users/harshbaberwal/opt/anaconda3/lib/python3.8/site-packages/sklearn/svm/_base.py:1206: ConvergenceWarning: Liblinear failed to converge, increase the number of iterations.\n",
      "  warnings.warn(\n",
      "/Users/harshbaberwal/opt/anaconda3/lib/python3.8/site-packages/sklearn/svm/_base.py:1206: ConvergenceWarning: Liblinear failed to converge, increase the number of iterations.\n",
      "  warnings.warn(\n"
     ]
    },
    {
     "name": "stdout",
     "output_type": "stream",
     "text": [
      "Best Parameters {'Classifier__max_iter': 3000}\n",
      "\n",
      " CV Accuracy 93.1998143050206\n",
      "Error Analysis\n",
      "\n",
      " Confusion Matrix: \n",
      "\n",
      "[[39508  1408   776]\n",
      " [ 1193 12598     6]\n",
      " [ 1343    16 13503]]\n",
      "\n",
      " Train Accuracy  93.25951301331892\n",
      "\n",
      " Test Accuracy  93.39890834659995\n"
     ]
    },
    {
     "name": "stderr",
     "output_type": "stream",
     "text": [
      "/Users/harshbaberwal/opt/anaconda3/lib/python3.8/site-packages/sklearn/svm/_base.py:1206: ConvergenceWarning: Liblinear failed to converge, increase the number of iterations.\n",
      "  warnings.warn(\n"
     ]
    }
   ],
   "source": [
    "svc_parameters  = {'Classifier__max_iter': [2000,3000,4000]}\n",
    "svc = stellar_cv_classifier(model = \"LinearSVC\", X = X_train, y = y_train, params = svc_parameters, scaler = \"standard\")\n",
    "\n",
    "print(\"\\n Train Accuracy \",svc.score(X_train,y_train)*100)\n",
    "print(\"\\n Test Accuracy \",svc.score(X_test,y_test)*100)\n"
   ]
  },
  {
   "cell_type": "markdown",
   "id": "609bf08b",
   "metadata": {},
   "source": [
    "### Iteration 1 Conclusion"
   ]
  },
  {
   "cell_type": "markdown",
   "id": "fbbbf02b",
   "metadata": {},
   "source": [
    "On quickly trying 5 learning algorithms for our classifier, we move ahead with Logistic and KNN to try and tune the hyperparameters.\n",
    "\n",
    "Error Analysis:\n",
    "Errors mostly arise from the model incorrectly predicting the label of galaxies as stars and QSOs as Galaxy.\n",
    "\n",
    "Will Try KNN and Logreg again with:\n",
    "1. Adding polynomial features to handle bias (just to make sure there's none).\n",
    "2. Checking and handling class imbalance issue using SMOTE oversampler and random undersampler.\n"
   ]
  },
  {
   "cell_type": "markdown",
   "id": "62927831",
   "metadata": {},
   "source": [
    "## Modeling Iteration 2"
   ]
  },
  {
   "cell_type": "markdown",
   "id": "0cb95ac7",
   "metadata": {},
   "source": [
    "#### Function to return polynomial features"
   ]
  },
  {
   "cell_type": "code",
   "execution_count": 358,
   "id": "3a410434",
   "metadata": {},
   "outputs": [],
   "source": [
    "\n",
    "def features_poly(X_train, X_test, deg, bias_term = False, interaction_only = True):\n",
    "    \n",
    "    print(\"X_train Shape: {}\".format(X_train.shape))\n",
    "    \n",
    "    interaction = PolynomialFeatures(degree=deg, interaction_only=interaction_only, include_bias=bias_term)\n",
    "    X_train_poly = interaction.fit_transform(X_train)\n",
    "    X_test_poly = interaction.fit_transform(X_test)\n",
    "    \n",
    "    print(\"Shape of X_train with interaction : {}\".format(X_train_poly.shape))\n",
    "    print(\"Shape of X_test with interaction : {}\".format(X_test_poly.shape))\n",
    "    \n",
    "    return(X_train_poly, X_test_poly)\n",
    "\n"
   ]
  },
  {
   "cell_type": "markdown",
   "id": "12f8d46e",
   "metadata": {},
   "source": [
    "#### Function to return balanced training datasets"
   ]
  },
  {
   "cell_type": "code",
   "execution_count": 359,
   "id": "cd44900b",
   "metadata": {
    "scrolled": false
   },
   "outputs": [],
   "source": [
    "\n",
    "def class_balancer(X, y):\n",
    "    \"\"\"Gives out model data with no class balance.\n",
    "    Oversamples the smaller class to 30k using SMOTE and\n",
    "    undersamples the bigger class to 30k using random undersampler\"\"\"\n",
    "\n",
    "    # Undersampling (majority class - 30000)\n",
    "    us = RandomUnderSampler(sampling_strategy={0: 30000}, random_state=42)\n",
    "    os = SMOTE(sampling_strategy = {1:30000,2:30000} , random_state=42)\n",
    "\n",
    "    X_samp, y_samp = us.fit_resample(X, y)\n",
    "    X_samp, y_samp = os.fit_resample(X_samp, y_samp)\n",
    "\n",
    "    print(f'''Shape of X before SMOTE: {X.shape}\n",
    "    Shape of X after SMOTE: {X_samp.shape}''')\n",
    "\n",
    "    print('\\nBalanced classes (%):')\n",
    "    print(pd.Series(y_samp).value_counts())\n",
    "    \n",
    "    return(X_samp, y_samp)\n"
   ]
  },
  {
   "cell_type": "markdown",
   "id": "2a0daebd",
   "metadata": {},
   "source": [
    "### Logistic Regression with Polynomial Features"
   ]
  },
  {
   "cell_type": "code",
   "execution_count": 360,
   "id": "c1e65e0c",
   "metadata": {},
   "outputs": [
    {
     "name": "stdout",
     "output_type": "stream",
     "text": [
      "X_train Shape: (70351, 4)\n",
      "X_train with interact Shape: (70351, 10)\n",
      "X_test with interact Shape: (17588, 10)\n",
      "Best Parameters {'Classifier__C': 0.5, 'Classifier__max_iter': 2000, 'Classifier__penalty': 'l2'}\n",
      "\n",
      " CV Accuracy 95.60062915848265\n",
      "Error Analysis\n",
      "\n",
      " Confusion Matrix: \n",
      "\n",
      "[[40207   498   987]\n",
      " [ 1430 12358     9]\n",
      " [   97    32 14733]]\n",
      "\n",
      " Train Accuracy  95.66033176500689\n",
      "\n",
      " Test Accuracy  95.73572890607232\n"
     ]
    }
   ],
   "source": [
    "## Creating polynomial features with interaction terms only\n",
    "X_tr,X_ts = features_poly(X_train, X_test, deg = 2, bias_term = False, interaction_only = True)\n",
    "\n",
    "logreg_parameters = {'Classifier__max_iter': [2000], 'Classifier__C': [0.5], 'Classifier__penalty': ['l2']}\n",
    "logreg = stellar_cv_classifier(model = \"Logistic\", X = X_tr, y = y_train, params = logreg_parameters, scaler = \"standard\")\n",
    "\n",
    "print(\"\\n Train Accuracy \",logreg.score(X_tr,y_train)*100)\n",
    "print(\"\\n Test Accuracy \",logreg.score(X_ts,y_test)*100)\n"
   ]
  },
  {
   "cell_type": "markdown",
   "id": "39db2499",
   "metadata": {},
   "source": [
    "### KNN with Polynomial Features"
   ]
  },
  {
   "cell_type": "code",
   "execution_count": 398,
   "id": "1eac249a",
   "metadata": {},
   "outputs": [
    {
     "name": "stdout",
     "output_type": "stream",
     "text": [
      "X_train Shape: (70351, 4)\n",
      "X_train with interact Shape: (70351, 10)\n",
      "X_test with interact Shape: (17588, 10)\n",
      "Best Parameters {'Classifier__n_neighbors': 5}\n",
      "\n",
      " CV Accuracy 95.528137762222\n",
      "Error Analysis\n",
      "\n",
      " Confusion Matrix: \n",
      "\n",
      "[[40379   409   904]\n",
      " [  847 12912    38]\n",
      " [  245     8 14609]]\n",
      "\n",
      " Train Accuracy  96.51604099444215\n",
      "\n",
      " Test Accuracy  95.63907209460996\n"
     ]
    }
   ],
   "source": [
    "X_tr,X_ts = features_poly(X_train, X_test, deg = 2, bias_term = False, interaction_only = True)\n",
    "\n",
    "knn_parameters = {'Classifier__n_neighbors': [4,5,6]}\n",
    "knn = stellar_cv_classifier(model = \"KNN\", X = X_tr, y = y_train, params = knn_parameters, scaler = \"standard\")\n",
    "\n",
    "print(\"\\n Train Accuracy \",knn.score(X_tr,y_train)*100)\n",
    "print(\"\\n Test Accuracy \",knn.score(X_ts,y_test)*100)"
   ]
  },
  {
   "cell_type": "markdown",
   "id": "8ec90dea",
   "metadata": {},
   "source": [
    "### LogReg with Balanced Classes"
   ]
  },
  {
   "cell_type": "code",
   "execution_count": 375,
   "id": "5ebe660b",
   "metadata": {
    "scrolled": true
   },
   "outputs": [
    {
     "name": "stdout",
     "output_type": "stream",
     "text": [
      "Shape of X before SMOTE: (70351, 4)\n",
      "    Shape of X after SMOTE: (90000, 4)\n",
      "\n",
      "Balanced classes (%):\n",
      "0    30000\n",
      "1    30000\n",
      "2    30000\n",
      "dtype: int64\n",
      "Best Parameters {'Classifier__C': 0.5, 'Classifier__max_iter': 2000, 'Classifier__penalty': 'l2'}\n",
      "\n",
      " CV Accuracy 94.63333333333334\n",
      "Error Analysis\n",
      "\n",
      " Confusion Matrix: \n",
      "\n",
      "[[27547  1304  1149]\n",
      " [ 2239 27745    16]\n",
      " [   28    20 29952]]\n",
      "\n",
      " Train Accuracy  94.71555555555555\n",
      "\n",
      " Test Accuracy  93.6490789174437\n"
     ]
    }
   ],
   "source": [
    "## Handling class imbalance using SMOTE oversampler and random undersampler\n",
    "X_tr_samp, y_tr_samp = class_balancer(X_train, y_train)\n",
    "\n",
    "logreg_parameters = {'Classifier__max_iter': [2000], 'Classifier__C': [0.5], 'Classifier__penalty': ['l2']}\n",
    "logreg = stellar_cv_classifier(model = \"Logistic\", X = X_tr_samp, y = y_tr_samp, params = logreg_parameters, scaler = \"standard\")\n",
    "\n",
    "print(\"\\n Train Accuracy \",logreg.score(X_tr_samp,y_tr_samp)*100)\n",
    "print(\"\\n Test Accuracy \",logreg.score(X_test,y_test)*100)\n"
   ]
  },
  {
   "cell_type": "markdown",
   "id": "24726a18",
   "metadata": {},
   "source": [
    "### KNN with Balanced Classes"
   ]
  },
  {
   "cell_type": "code",
   "execution_count": 379,
   "id": "5fbedf56",
   "metadata": {
    "scrolled": true
   },
   "outputs": [
    {
     "name": "stdout",
     "output_type": "stream",
     "text": [
      "Shape of X before SMOTE: (70351, 4)\n",
      "    Shape of X after SMOTE: (90000, 4)\n",
      "\n",
      "Balanced classes (%):\n",
      "0    30000\n",
      "1    30000\n",
      "2    30000\n",
      "dtype: int64\n",
      "Best Parameters {'Classifier__n_neighbors': 4}\n",
      "\n",
      " CV Accuracy 96.37777777777778\n",
      "Error Analysis\n",
      "\n",
      " Confusion Matrix: \n",
      "\n",
      "[[29013   396   591]\n",
      " [  916 29043    41]\n",
      " [  188    12 29800]]\n",
      "\n",
      " Train Accuracy  97.61777777777777\n",
      "\n",
      " Test Accuracy  95.38890152376621\n"
     ]
    }
   ],
   "source": [
    "X_tr_samp, y_tr_samp = class_balancer(X_train, y_train)\n",
    "\n",
    "knn_parameters = {'Classifier__n_neighbors': [4,5,6]}\n",
    "knn = stellar_cv_classifier(model = \"KNN\", X = X_tr_samp, y = y_tr_samp, params = knn_parameters, scaler = \"standard\")\n",
    "\n",
    "print(\"\\n Train Accuracy \",knn.score(X_tr_samp,y_tr_samp)*100)\n",
    "print(\"\\n Test Accuracy \",knn.score(X_test,y_test)*100)\n"
   ]
  },
  {
   "cell_type": "markdown",
   "id": "b28da7c5",
   "metadata": {},
   "source": [
    "### KNN with Balanced Classes and Polynomial Features"
   ]
  },
  {
   "cell_type": "code",
   "execution_count": 376,
   "id": "2825dae8",
   "metadata": {},
   "outputs": [
    {
     "name": "stdout",
     "output_type": "stream",
     "text": [
      "Shape of X before SMOTE: (70351, 4)\n",
      "    Shape of X after SMOTE: (90000, 4)\n",
      "\n",
      "Balanced classes (%):\n",
      "0    30000\n",
      "1    30000\n",
      "2    30000\n",
      "dtype: int64\n",
      "X_train Shape: (90000, 4)\n",
      "X_train with interact Shape: (90000, 10)\n",
      "X_test with interact Shape: (17588, 10)\n",
      "Best Parameters {'Classifier__n_neighbors': 4}\n",
      "\n",
      " CV Accuracy 96.28555555555556\n",
      "Error Analysis\n",
      "\n",
      " Confusion Matrix: \n",
      "\n",
      "[[28976   399   625]\n",
      " [  943 29015    42]\n",
      " [  192    15 29793]]\n",
      "\n",
      " Train Accuracy  97.53777777777778\n",
      "\n",
      " Test Accuracy  95.19558790084149\n"
     ]
    }
   ],
   "source": [
    "## First handle class imbalance and then create polynomial features with interation terms only.\n",
    "X_tr_samp, y_tr_samp = class_balancer(X_train, y_train)\n",
    "X_tr, X_ts = features_poly(X_tr_samp, X_test, deg = 2, bias_term = False, interaction_only = True)\n",
    "\n",
    "knn_parameters = {'Classifier__n_neighbors': [4]}\n",
    "knn = stellar_cv_classifier(model = \"KNN\", X = X_tr, y = y_tr_samp, params = knn_parameters, scaler = \"standard\")\n",
    "\n",
    "print(\"\\n Train Accuracy \",knn.score(X_tr,y_tr_samp)*100)\n",
    "print(\"\\n Test Accuracy \",knn.score(X_ts,y_test)*100)\n"
   ]
  },
  {
   "cell_type": "markdown",
   "id": "254289e0",
   "metadata": {},
   "source": [
    "## Iteration 2 Conclusion"
   ]
  },
  {
   "cell_type": "markdown",
   "id": "0ddbc3a4",
   "metadata": {},
   "source": [
    "Handling the class imbalance only resulted in the highest accuracy (CV, Train and Test) with the KNN classifier and number of neighbors set to 4.\n",
    "\n",
    "Consequently, it can also be understood as, the model not having bias because addition of plynomial features did not help much. Although, since handling class imbalance did help, getting more observations for the low proportion classes could help the model fit overall."
   ]
  },
  {
   "cell_type": "markdown",
   "id": "0a7abda7",
   "metadata": {},
   "source": [
    "# Final Model\n",
    "##### Building the final GBC Model and evaluating on Test Data"
   ]
  },
  {
   "cell_type": "code",
   "execution_count": 388,
   "id": "c2167f52",
   "metadata": {},
   "outputs": [
    {
     "name": "stdout",
     "output_type": "stream",
     "text": [
      "Shape of X before SMOTE: (70351, 4)\n",
      "    Shape of X after SMOTE: (90000, 4)\n",
      "\n",
      "Balanced classes (%):\n",
      "0    30000\n",
      "1    30000\n",
      "2    30000\n",
      "dtype: int64\n",
      "\n",
      " Train Accuracy  96.25444444444445\n",
      "\n",
      " Test Accuracy  95.76415738003185\n",
      "\n",
      " Test Confusion Matrix \n",
      " [[10095    99   229]\n",
      " [  281  3161     7]\n",
      " [  128     1  3587]]\n",
      "\n",
      " Test Classification Report \n",
      "               precision    recall  f1-score   support\n",
      "\n",
      "           0       0.96      0.97      0.96     10423\n",
      "           1       0.97      0.92      0.94      3449\n",
      "           2       0.94      0.97      0.95      3716\n",
      "\n",
      "    accuracy                           0.96     17588\n",
      "   macro avg       0.96      0.95      0.95     17588\n",
      "weighted avg       0.96      0.96      0.96     17588\n",
      "\n"
     ]
    }
   ],
   "source": [
    "\n",
    "X_tr_samp, y_tr_samp = class_balancer(X_train, y_train)\n",
    "scaler = StandardScaler()\n",
    "\n",
    "\n",
    "classifier = KNeighborsClassifier(n_neighbors = 4) \n",
    "steps = [(\"Scaler\",scaler),(\"Classifier\",classifier)]\n",
    "\n",
    "knn_pipeline = Pipeline(steps)\n",
    "knn_pipeline.fit(X_tr_samp,y_tr_samp)\n",
    "\n",
    "print(\"\\n Train Accuracy \",gbc_pipeline.score(X_tr_samp,y_tr_samp)*100)\n",
    "print(\"\\n Test Accuracy \",gbc_pipeline.score(X_test,y_test)*100)\n",
    "\n",
    "y_pred = gbc_pipeline.predict(X_test)\n",
    "print(\"\\n Test Confusion Matrix \\n\", confusion_matrix(y_test, y_pred))\n",
    "print(\"\\n Test Classification Report \\n\",classification_report(y_test, y_pred))\n"
   ]
  },
  {
   "cell_type": "code",
   "execution_count": 401,
   "id": "5b3f4be0",
   "metadata": {},
   "outputs": [
    {
     "name": "stdout",
     "output_type": "stream",
     "text": [
      "\n",
      " Test Classification Report \n",
      "               precision    recall  f1-score   support\n",
      "\n",
      "           0       0.96      0.97      0.96     10423\n",
      "           1       0.97      0.92      0.94      3449\n",
      "           2       0.94      0.97      0.95      3716\n",
      "\n",
      "    accuracy                           0.96     17588\n",
      "   macro avg       0.96      0.95      0.95     17588\n",
      "weighted avg       0.96      0.96      0.96     17588\n",
      "\n"
     ]
    }
   ],
   "source": [
    "print(\"\\n Test Classification Report \\n\",classification_report(y_test, y_pred))"
   ]
  }
 ],
 "metadata": {
  "kernelspec": {
   "display_name": "Python 3",
   "language": "python",
   "name": "python3"
  },
  "language_info": {
   "codemirror_mode": {
    "name": "ipython",
    "version": 3
   },
   "file_extension": ".py",
   "mimetype": "text/x-python",
   "name": "python",
   "nbconvert_exporter": "python",
   "pygments_lexer": "ipython3",
   "version": "3.8.8"
  }
 },
 "nbformat": 4,
 "nbformat_minor": 5
}
